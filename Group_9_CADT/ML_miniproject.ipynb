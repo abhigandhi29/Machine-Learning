{
  "nbformat": 4,
  "nbformat_minor": 0,
  "metadata": {
    "colab": {
      "name": "ML_miniproject",
      "provenance": [],
      "collapsed_sections": []
    },
    "kernelspec": {
      "name": "python3",
      "display_name": "Python 3",
      "language": "python"
    }
  },
  "cells": [
    {
      "cell_type": "code",
      "execution_count": 1,
      "metadata": {},
      "outputs": [],
      "source": [
        "# Group Number: 9\n",
        "# Roll Numbers : 18IE10037 | 19CS10031 | 19CS3001 \n",
        "#Names of members: Jagriti Agarwal | Gandhi Abhishek Rajesh | Abhilash Datta\n",
        "# Project Number: CADT\n",
        "# Project Title: Car Insurance Approval using Decision Tree based Learning Model"
      ]
    },
    {
      "cell_type": "code",
      "metadata": {
        "id": "5-ESaZx-Po20",
        "colab": {
          "base_uri": "https://localhost:8080/"
        },
        "outputId": "09e1f01e-b27d-473d-f85e-8d06b2541bc0"
      },
      "source": [
        "!git clone https://github.com/abhigandhi29/ML_course.git\n",
        "%cd ML_course/"
      ],
      "execution_count": 2,
      "outputs": [
        {
          "output_type": "stream",
          "name": "stdout",
          "text": [
            "c:\\Users\\ABHISHEK\\Desktop\\ml\\ML_course\n",
            "fatal: destination path 'ML_course' already exists and is not an empty directory.\n"
          ]
        }
      ]
    },
    {
      "cell_type": "code",
      "metadata": {
        "id": "mk_D-KifR9M-"
      },
      "source": [
        "#Modules importing cell\n",
        "import numpy as np # linear algebra\n",
        "import pandas as pd # data processing, CSV file I/O (e.g. pd.read_csv)\n",
        "from sklearn.model_selection import train_test_split\n",
        "from sklearn.metrics import accuracy_score\n",
        "from sklearn.metrics import classification_report\n",
        "from sklearn.model_selection import KFold\n",
        "import operator\n",
        "from math import log\n",
        "from collections import Counter\n",
        "from statistics import mean\n",
        "from sklearn.preprocessing import LabelEncoder\n",
        "from sklearn.metrics import accuracy_score\n",
        "import sys\n",
        "from sklearn.datasets import load_iris\n",
        "from sklearn.model_selection import cross_val_score\n",
        "from sklearn.tree import DecisionTreeClassifier\n",
        "import copy\n",
        "from sklearn.model_selection import train_test_split\n",
        "import matplotlib.pyplot as plt"
      ],
      "execution_count": 3,
      "outputs": []
    },
    {
      "cell_type": "code",
      "metadata": {
        "id": "8ZH9AhcOSN3c"
      },
      "source": [
        "#Loading datasets\n",
        "train = pd.read_csv(\"./train.csv\")\n",
        "test = pd.read_csv(\"./test.csv\")\n"
      ],
      "execution_count": 4,
      "outputs": []
    },
    {
      "cell_type": "code",
      "metadata": {
        "id": "FlNfdHkISW4G",
        "colab": {
          "base_uri": "https://localhost:8080/"
        },
        "outputId": "6b478821-b307-4710-e3ba-0477cab652bb"
      },
      "source": [
        "#Printing datasets\r\n",
        "print(train.info())\r\n",
        "print(test.info())"
      ],
      "execution_count": 5,
      "outputs": [
        {
          "output_type": "stream",
          "name": "stdout",
          "text": [
            "<class 'pandas.core.frame.DataFrame'>\nRangeIndex: 1555 entries, 0 to 1554\nData columns (total 7 columns):\n #   Column        Non-Null Count  Dtype \n---  ------        --------------  ----- \n 0   buying        1555 non-null   int64 \n 1   maintainence  1555 non-null   object\n 2   doors         1555 non-null   object\n 3   persons       1555 non-null   object\n 4   lug_boot      1555 non-null   object\n 5   safety        1555 non-null   object\n 6   class         1555 non-null   object\ndtypes: int64(1), object(6)\nmemory usage: 85.2+ KB\nNone\n<class 'pandas.core.frame.DataFrame'>\nRangeIndex: 173 entries, 0 to 172\nData columns (total 7 columns):\n #   Column        Non-Null Count  Dtype \n---  ------        --------------  ----- \n 0   buying        173 non-null    int64 \n 1   maintainence  173 non-null    object\n 2   doors         173 non-null    object\n 3   persons       173 non-null    object\n 4   lug_boot      173 non-null    object\n 5   safety        173 non-null    object\n 6   class         173 non-null    object\ndtypes: int64(1), object(6)\nmemory usage: 9.6+ KB\nNone\n"
          ]
        }
      ]
    },
    {
      "cell_type": "code",
      "metadata": {
        "colab": {
          "base_uri": "https://localhost:8080/"
        },
        "id": "q6yssxg4zpWe",
        "outputId": "551f5def-cc04-4e40-fbc6-445696a47eb4"
      },
      "source": [
        "#Splitting into input features(x) and output(y) \n",
        "train_x = train.iloc[:,:6]\n",
        "train_y = train.iloc[:,-1]\n",
        "test_x = test.iloc[:,:6]\n",
        "test_y = test.iloc[:,-1]\n",
        "print(train_x.head())\n",
        "print(train_y.head())\n",
        "print(test_x.head())\n",
        "print(test_y.head())"
      ],
      "execution_count": 6,
      "outputs": [
        {
          "output_type": "stream",
          "name": "stdout",
          "text": [
            "   buying maintainence  doors persons lug_boot safety\n0       6         high  5more    more      med   high\n1       4         high      4    more      big    low\n2       3        vhigh      4    more      big   high\n3       1          med      4       2      big   high\n4       5          low  5more       4    small    low\n0    bad\n1    bad\n2     ok\n3    bad\n4    bad\nName: class, dtype: object\n   buying maintainence  doors persons lug_boot safety\n0       4         high      4       2      med   high\n1       3          low      2       4      med    med\n2       4         high  5more       2      big    med\n3       1         high  5more       4      med    med\n4       2          low      4    more      med    low\n0    bad\n1     ok\n2    bad\n3     ok\n4    bad\nName: class, dtype: object\n"
          ]
        }
      ]
    },
    {
      "cell_type": "code",
      "metadata": {
        "colab": {
          "base_uri": "https://localhost:8080/"
        },
        "id": "NHA_qX0LUkcC",
        "outputId": "5876ac99-ae03-4354-8c5f-de7084af388c"
      },
      "source": [
        "#Exploring categorical data\r\n",
        "for col_name in train.columns:\r\n",
        "    if train[col_name].dtypes == 'object':\r\n",
        "        unique_cat = len(train[col_name].unique())\r\n",
        "        print(f\"feature '{col_name}' has {unique_cat} unique categories\")"
      ],
      "execution_count": 7,
      "outputs": [
        {
          "output_type": "stream",
          "name": "stdout",
          "text": [
            "feature 'maintainence' has 4 unique categories\nfeature 'doors' has 4 unique categories\nfeature 'persons' has 3 unique categories\nfeature 'lug_boot' has 3 unique categories\nfeature 'safety' has 3 unique categories\nfeature 'class' has 4 unique categories\n"
          ]
        }
      ]
    },
    {
      "cell_type": "code",
      "metadata": {
        "colab": {
          "base_uri": "https://localhost:8080/"
        },
        "id": "RnbYmtJfW9gV",
        "outputId": "4b54389a-b7ee-4f19-a93a-7594f5a035f4"
      },
      "source": [
        "#Label_Encoding Data for future use\n",
        "le = LabelEncoder()\n",
        "train_y = le.fit_transform(train_y)\n",
        "train_y = pd.DataFrame(train_y)\n",
        "test_y = le.fit_transform(test_y)\n",
        "test_y = pd.DataFrame(test_y)\n",
        "\n",
        "le_train_x=[]\n",
        "for x in train_x:\n",
        "  le_train_x.append(le.fit_transform(train_x[x]))\n",
        "\n",
        "le_train_x = np.array(le_train_x).T\n",
        "\n",
        "le_test_x=[]\n",
        "for x in test_x:\n",
        "  le_test_x.append(le.fit_transform(test_x[x]))\n",
        "\n",
        "le_test_x = np.array(le_test_x).T"
      ],
      "execution_count": 8,
      "outputs": []
    },
    {
      "cell_type": "code",
      "metadata": {
        "id": "fneVBRSnxnoT"
      },
      "source": [
        "#Decision Tree Model without Prunning\n",
        "\n",
        "#node class is used as a node of tree consisiting of one parent and multiple childs\n",
        "class node:\n",
        "  def __init__(self,parent,parameter,feature,count=0,special_key=0):\n",
        "    self.parent = parent\n",
        "    self.parameter = parameter\n",
        "    self.child = None\n",
        "    self.status = -1\n",
        "    self.feature_name = feature\n",
        "    self.count=count\n",
        "    self.special_key=special_key\n",
        "\n",
        "  def update_childs(self,child):\n",
        "    self.child = child\n",
        "\n",
        "#DecisionTree takes in Type as input and makes a dicision tree using fit function\n",
        "class DecisionTree:\n",
        "  def __init__(self,type):\n",
        "    self.type = type\n",
        "    self.feature_size = 0\n",
        "    self.parent_node = node(None,\"parent\",None)\n",
        "    self.y_shape = 0\n",
        "    self.key=1\n",
        "  \n",
        "  def entropy(self,y):\n",
        "    x = np.zeros(self.y_shape)\n",
        "    for i in y:\n",
        "      x[i] = x[i]+1\n",
        "    entropy = 0\n",
        "    x = x/len(y)\n",
        "    for i in x:\n",
        "      entropy += -i*np.log2(i) if i!=0.0 else 0\n",
        "    return entropy\n",
        "\n",
        "  def gini(self,y):\n",
        "    x = np.zeros(self.y_shape)\n",
        "    for i in y:\n",
        "      x[i] = x[i]+1\n",
        "    gini = 1\n",
        "    x = x/len(y)\n",
        "    for i in x:\n",
        "      gini-=i*i\n",
        "    return gini\n",
        "\n",
        "  def combine_measure(self, measure, ni, n):\n",
        "    temp = np.array(measure)\n",
        "    n2 = np.array(ni)\n",
        "    return np.sum((temp*n2)/n)\n",
        "  \n",
        "  def cal_accuracy(self,x,y):\n",
        "    correct=0\n",
        "    wrong=0\n",
        "    for n,i in x.iterrows():\n",
        "      found=1\n",
        "      temp=self.parent_node\n",
        "      while temp.status==-1:\n",
        "        check=0\n",
        "        max=0\n",
        "        child=None\n",
        "        for childs in temp.child:\n",
        "          if childs.count > max :\n",
        "            max = childs.count\n",
        "            child=childs\n",
        "          if i[temp.feature_name]==childs.parameter:\n",
        "            temp=childs\n",
        "            check=1\n",
        "            break\n",
        "        if check==0:\n",
        "          temp=child\n",
        "          continue\n",
        "      if int(temp.status)== y[0][n]:\n",
        "        correct+=1\n",
        "      else:\n",
        "        wrong+=1\n",
        "    return 100*correct/(correct+wrong) \n",
        "\n",
        "\n",
        "  def predict(self,x):\n",
        "    predict=[]\n",
        "    for n,i in x.iterrows():\n",
        "      found=1\n",
        "      temp=self.parent_node\n",
        "      while temp.status==-1:\n",
        "        check=0\n",
        "        max=0\n",
        "        for childs in temp.child:\n",
        "          if childs.count > max :\n",
        "            max = childs.count\n",
        "            child=childs\n",
        "          if i[temp.feature_name]==childs.parameter:\n",
        "            temp=childs\n",
        "            check=1\n",
        "            break\n",
        "        if check==0:\n",
        "          temp=child\n",
        "          continue\n",
        "      predict.append(temp.status)\n",
        "    return predict\n",
        "\n",
        "\n",
        "\n",
        "  def print_DT(self,node=None):\n",
        "    if(node==None):\n",
        "      node=self.parent_node\n",
        "    if(node.status==-1):\n",
        "      print(node.parameter,\"(\",node.feature_name,\")\",\"-->\",end='')\n",
        "      for nodes in node.child:\n",
        "        print(nodes.parameter,end=' ')\n",
        "      print()\n",
        "      for nodes in node.child:\n",
        "        self.print_DT(nodes)\n",
        "    else:\n",
        "      print(node.parameter,\"(\",node.feature_name,\")\",\"-->\",node.status)\n",
        "\n",
        "  \n",
        "  def fit(self,X_train,Y_train,No_of_classes):\n",
        "    self.y_shape=Y_train.nunique()[0]\n",
        "    self.y_shape = No_of_classes\n",
        "    if(self.type==\"gini\"):\n",
        "      self.fit_tree(X_train,Y_train,self.parent_node,True)\n",
        "    else:\n",
        "      self.fit_tree(X_train,Y_train,self.parent_node,False)\n",
        "\n",
        "  def fit_tree(self,X_train,Y_train,parent,flag):\n",
        "    X=X_train.copy(deep=True)\n",
        "    Y=Y_train.copy(deep=True)\n",
        "    self.feature_size=X_train.shape[1]\n",
        "    max=None\n",
        "    Y_t=[]\n",
        "    Y=Y.values.tolist()\n",
        "    for i in Y:\n",
        "      Y_t.append(i[0])\n",
        "\n",
        "    node_measure = self.gini(Y_t) if flag else self.entropy(Y_t)\n",
        "    if node_measure==0.0:\n",
        "      n=0\n",
        "      for i in range(self.y_shape):\n",
        "        if Y_t.count(i):\n",
        "          parent.status=i\n",
        "          n=1\n",
        "      if n==0:\n",
        "        parent.status=1\n",
        "      return\n",
        "\n",
        "    measure_feature=[]\n",
        "    feature_name=[]\n",
        "    feature_count=[]\n",
        "\n",
        "    for column in X:\n",
        "      feat = np.unique(X[column])\n",
        "      measure = []\n",
        "      ni = []\n",
        "      for l in feat:\n",
        "        Y_new=[]\n",
        "        for k in range(X.shape[0]):\n",
        "          if(X[column][k]==l):\n",
        "            Y_new.append(Y_t[k])\n",
        "        measure.append(self.gini(Y_new) if flag else self.entropy(Y_new))\n",
        "        ni.append(len(Y_new))\n",
        "      measure_feature.append(self.combine_measure(measure,ni,len(Y_t)))\n",
        "      feature_count.append(ni)\n",
        "      feature_name.append(column)\n",
        "\n",
        "    minpos = measure_feature.index(min(measure_feature))\n",
        "    child=[]\n",
        "    temp1=0\n",
        "    for l in np.unique(X[feature_name[minpos]]):\n",
        "      X_temp=X_train.copy(deep=True)\n",
        "      Y_temp=Y_train.copy(deep=True)\n",
        "      count=0\n",
        "      \n",
        "      for k in range(X.shape[0]):\n",
        "        if(X[feature_name[minpos]][k]!=l):\n",
        "          X_temp.drop(k,0,inplace=True)\n",
        "          Y_temp.drop(k,0,inplace=True)\n",
        "          count+=1\n",
        "      X_temp.drop(feature_name[minpos],1,inplace=True)\n",
        "      X_temp=X_temp.reset_index(drop=True)\n",
        "      Y_temp=Y_temp.reset_index(drop=True)\n",
        "      temp = node(parent,l,None,feature_count[minpos][temp1],self.key)\n",
        "      self.key+=1\n",
        "      temp1+=1\n",
        "      self.fit_tree(X_temp,Y_temp,temp,flag)\n",
        "      child.append(temp)\n",
        "    parent.update_childs(child)\n",
        "    parent.feature_name=(feature_name[minpos])"
      ],
      "execution_count": 9,
      "outputs": []
    },
    {
      "cell_type": "code",
      "metadata": {
        "id": "SJ36X9BXydk6",
        "colab": {
          "base_uri": "https://localhost:8080/"
        },
        "outputId": "80545cfe-4afb-4b91-8f99-60ac4a4da096"
      },
      "source": [
        "#Accuracy of Gini and ID3 without pruning\n",
        "sys.setrecursionlimit(10**6)\n",
        "gini_dt = DecisionTree('gini')\n",
        "gini_dt.fit(train_x,train_y,4)\n",
        "\n",
        "infogain_dt = DecisionTree('info')\n",
        "infogain_dt.fit(train_x,train_y,4)\n",
        "\n",
        "print('Training Accuracy of Unprunned DT with gini impurity',gini_dt.cal_accuracy(train_x,train_y))\n",
        "print('Testing Accuracy of Unprunned DT with gini impurity',gini_dt.cal_accuracy(test_x,test_y))\n",
        "print('Training Accuracy of Unprunned DT with ID3',infogain_dt.cal_accuracy(train_x,train_y))\n",
        "print('Testing Accuracy of Unprunned DT with ID3',infogain_dt.cal_accuracy(test_x,test_y))"
      ],
      "execution_count": 10,
      "outputs": [
        {
          "output_type": "stream",
          "name": "stdout",
          "text": [
            "Training Accuracy of Unprunned DT with gini impurity 100.0\n",
            "Testing Accuracy of Unprunned DT with gini impurity 90.7514450867052\n",
            "Training Accuracy of Unprunned DT with ID3 100.0\n",
            "Testing Accuracy of Unprunned DT with ID3 90.7514450867052\n"
          ]
        }
      ]
    },
    {
      "cell_type": "code",
      "metadata": {
        "colab": {
          "base_uri": "https://localhost:8080/"
        },
        "id": "birOhuGz-fmE",
        "outputId": "58c542f4-02d5-4e8c-ad33-5a2827ef8e6b"
      },
      "source": [
        "# 1(b) Testing out Scikit Learn Decision Tree Model\n",
        "clf = DecisionTreeClassifier(\"entropy\",random_state=0)\n",
        "clf.fit(le_train_x,train_y,4)\n",
        "print('Testing accuracy using scikit learn:',100*clf.score(le_test_x,test_y))\n",
        "print('Train accuracy using scikit learn:',100*clf.score(le_train_x,train_y))"
      ],
      "execution_count": 11,
      "outputs": [
        {
          "output_type": "stream",
          "name": "stdout",
          "text": [
            "Testing accuracy using scikit learn: 93.0635838150289\n",
            "Train accuracy using scikit learn: 100.0\n"
          ]
        }
      ]
    },
    {
      "cell_type": "code",
      "execution_count": 12,
      "metadata": {},
      "outputs": [],
      "source": [
        "#X_train1=90% data of training\n",
        "#X_valid=10% of training\n",
        "\n",
        "\n",
        "X_train1,X_valid, Y_train1, Y_valid = train_test_split(train_x, train_y, test_size=0.1, random_state=False)\n",
        "\n",
        "X_train1.reset_index(drop=True,inplace=True)\n",
        "Y_train1.reset_index(drop=True,inplace=True)\n",
        "X_valid.reset_index(drop=True,inplace=True)\n",
        "Y_valid.reset_index(drop=True,inplace=True)"
      ]
    },
    {
      "cell_type": "code",
      "metadata": {
        "id": "y1r7wCaSydyt"
      },
      "source": [
        "#pruning and related functions\n",
        "\n",
        "def prune(dt1,X_valid,Y_valid,node):  \n",
        "  curr_depth=depth(dt1,dt1.parent_node)\n",
        "  max_inc=[1]\n",
        "  node=dt1.parent_node\n",
        "  ini_acc=dt1.cal_accuracy(X_valid,Y_valid)\n",
        "  acc_inc=1\n",
        "  while(max_inc[0]>0):\n",
        "    del_node=[dt1.parent_node]\n",
        "    max_inc[0]=0\n",
        "    dfs(dt1,dt1.parent_node,max_inc,del_node)\n",
        "    if(max_inc[0]<=0):\n",
        "      break  \n",
        "    majority=[0,0,0,0]\n",
        "    find_major(dt1,del_node[0],majority)\n",
        "      \n",
        "    del_node[0].status=majority.index(max(majority))\n",
        "    del_node[0].child=None\n",
        "\n",
        "\n",
        "def dfs(tree,node,max_inc,del_node):\n",
        "  if(node.child==None):\n",
        "    return \n",
        "  for n in node.child:\n",
        "    if(n.child==None):\n",
        "      continue\n",
        "    else:\n",
        "      majority=[0,0,0,0]\n",
        "      find_major(tree,n,majority)\n",
        "      pruneTree = copy.deepcopy(tree)\n",
        "      new_n = find_n(pruneTree.parent_node,n)\n",
        "      new_n.status = majority.index(max(majority))\n",
        "      new_n.child = None\n",
        "      curr_accuracy = tree.cal_accuracy(X_valid,Y_valid)\n",
        "      new_accuracy = pruneTree.cal_accuracy(X_valid,Y_valid)\n",
        "      if(new_accuracy-curr_accuracy>max_inc[0]):\n",
        "        max_inc[0] = new_accuracy-curr_accuracy\n",
        "        del_node[0] = n\n",
        "      dfs(tree,n,max_inc,del_node)\n",
        "\n",
        "\n",
        "\n",
        "def find_major(tree,node,majority):\n",
        "  if(node.status!=-1):\n",
        "    majority[node.status] += node.count \n",
        "    return \n",
        "  for key in node.child:\n",
        "    if(key==None):\n",
        "      continue\n",
        "    find_major(tree,key,majority)\n",
        "\n",
        "\n",
        "def find_n(nodep,nodet):\n",
        "  if( nodep.special_key == nodet.special_key ):\n",
        "    #print(1)\n",
        "    return nodep\n",
        "  if(nodep.child==None):\n",
        "    return None\n",
        "  for children in nodep.child:\n",
        "    if(children==None):\n",
        "      continue\n",
        "    x=find_n(children,nodet)\n",
        "    if(x!=None):\n",
        "      return x\n",
        "      \n",
        "\n",
        "def depth(tree,node):\n",
        "  if(node.status!=-1):\n",
        "    return 1\n",
        "  else:\n",
        "    maxd=0\n",
        "    for key in node.child:\n",
        "      x=depth(tree,key)+1\n",
        "      if(x>maxd):\n",
        "        maxd=x\n",
        "    return maxd\n",
        "\n"
      ],
      "execution_count": 13,
      "outputs": []
    },
    {
      "cell_type": "code",
      "metadata": {
        "id": "2-uTd-24COwp"
      },
      "source": [
        "#kfold Cross Validation For Information Gain\n",
        "num = [10,100,200,300,500,700,800,900,1000,1500]\n",
        "unprunned_acc = [0,0,0,0,0,0,0,0,0,0]\n",
        "prunned_acc = [0,0,0,0,0,0,0,0,0,0]\n",
        "for i in range(10):\n",
        "  t_x, val_x, t_y, val_y = train_test_split(train_x, train_y, test_size=0.1, random_state=i, shuffle = True)\n",
        "  t_x.reset_index(drop= True, inplace = True)\n",
        "  t_y.reset_index(drop= True, inplace = True)\n",
        "  #t_x = t_x.head(num[i])\n",
        "  #t_y = t_y.head(num[i])\n",
        "  temp_unprunned_model = DecisionTree('info')\n",
        "  temp_unprunned_model.fit(t_x,t_y,4)\n",
        "  acc = temp_unprunned_model.cal_accuracy(val_x,val_y)\n",
        "  unprunned_acc[i] = acc\n",
        "  prune(temp_unprunned_model,val_x,val_y,temp_unprunned_model.parent_node) \n",
        "  acc = temp_unprunned_model.cal_accuracy(val_x,val_y)\n",
        "  prunned_acc[i] = acc\n",
        "\n",
        "\n",
        "unprunned_acc_gini = [0,0,0,0,0,0,0,0,0,0]\n",
        "prunned_acc_gini = [0,0,0,0,0,0,0,0,0,0]\n",
        "for i in range(10):\n",
        "  t_x, val_x, t_y, val_y = train_test_split(train_x, train_y, test_size=0.1, random_state=i, shuffle = True)\n",
        "  t_x.reset_index(drop= True, inplace = True)\n",
        "  t_y.reset_index(drop= True, inplace = True)\n",
        "  #t_x = t_x.head(num[i])\n",
        "  #t_y = t_y.head(num[i])\n",
        "  temp_unprunned_model = DecisionTree('gini')\n",
        "  temp_unprunned_model.fit(t_x,t_y,4)\n",
        "  acc = temp_unprunned_model.cal_accuracy(val_x,val_y)\n",
        "  unprunned_acc_gini[i] = acc\n",
        "  prune(temp_unprunned_model,val_x,val_y,temp_unprunned_model.parent_node)\n",
        "    \n",
        "  acc = temp_unprunned_model.cal_accuracy(val_x,val_y)\n",
        "  prunned_acc_gini[i] = acc\n",
        "\n",
        "print('Accuracy of ID3 Decision Tree Without Pruning: ',sum(unprunned_acc)/len(unprunned_acc))\n",
        "print('Accuracy of ID3 Decision Tree With Pruning: ',sum(prunned_acc)/len(prunned_acc))\n",
        "print('Accuracy of GINI Decision Tree Without Pruning: ',sum(unprunned_acc_gini)/len(unprunned_acc_gini))\n",
        "print('Accuracy of GINI Decision Tree With Pruning: ',sum(prunned_acc_gini)/len(prunned_acc_gini))"
      ],
      "execution_count": 14,
      "outputs": [
        {
          "output_type": "stream",
          "name": "stdout",
          "text": [
            "Accuracy of ID3 Decision Tree Without Pruning:  92.82051282051282\nAccuracy of ID3 Decision Tree With Pruning:  93.52564102564102\nAccuracy of GINI Decision Tree Without Pruning:  92.82051282051282\nAccuracy of GINI Decision Tree With Pruning:  93.52564102564102\n"
          ]
        }
      ]
    },
    {
      "cell_type": "code",
      "execution_count": 19,
      "metadata": {},
      "outputs": [],
      "source": [
        "#Training Model for different train set size\n",
        "num = [10,100,200,300,500,700,800,900,1000,1500]\n",
        "unprunned_acc_plot = [0,0,0,0,0,0,0,0,0,0]\n",
        "prunned_acc_plot = [0,0,0,0,0,0,0,0,0,0]\n",
        "for i in range(10):\n",
        "    t_x, val_x, t_y, val_y = train_test_split(train_x, train_y, test_size=0.1, random_state=i, shuffle = True)\n",
        "    t_x.reset_index(drop= True, inplace = True)\n",
        "    t_y.reset_index(drop= True, inplace = True)\n",
        "    t_x = t_x.head(num[i])\n",
        "    t_y = t_y.head(num[i])\n",
        "    temp_unprunned_model = DecisionTree('info')\n",
        "    temp_unprunned_model.fit(t_x,t_y,4)\n",
        "    acc = temp_unprunned_model.cal_accuracy(test_x,test_y)\n",
        "    unprunned_acc_plot[i] = acc\n",
        "    \n",
        "    prune(temp_unprunned_model,val_x,val_y,temp_unprunned_model.parent_node)\n",
        "    \n",
        "    acc = temp_unprunned_model.cal_accuracy(test_x,test_y)\n",
        "    prunned_acc_plot[i] = acc\n",
        "\n",
        "unprunned_acc_gini_plot = [0,0,0,0,0,0,0,0,0,0]\n",
        "prunned_acc_gini_plot = [0,0,0,0,0,0,0,0,0,0]\n",
        "for i in range(10):\n",
        "    t_x, val_x, t_y, val_y = train_test_split(train_x, train_y, test_size=0.1, random_state=i, shuffle = True)\n",
        "    t_x.reset_index(drop= True, inplace = True)\n",
        "    t_y.reset_index(drop= True, inplace = True)\n",
        "    t_x = t_x.head(num[i])\n",
        "    t_y = t_y.head(num[i])\n",
        "    temp_unprunned_model = DecisionTree('gini')\n",
        "    temp_unprunned_model.fit(t_x,t_y,4)\n",
        "    acc = temp_unprunned_model.cal_accuracy(test_x,test_y)\n",
        "    unprunned_acc_gini_plot[i] = acc\n",
        "    prune(temp_unprunned_model,val_x,val_y,temp_unprunned_model.parent_node)\n",
        "    \n",
        "    acc = temp_unprunned_model.cal_accuracy(test_x,test_y)\n",
        "    prunned_acc_gini_plot[i] = acc"
      ]
    },
    {
      "cell_type": "code",
      "metadata": {
        "id": "-rlS9jDwJ6jF"
      },
      "source": [
        "#Accuracy plot for ID3 vs Training Set size \n",
        "\n",
        "print(\"Unprunned ID3 DT accuracy with training set size\")\n",
        "plt.plot(num,unprunned_acc_plot)\n",
        "\n",
        "print()\n",
        "print(\"Prunned ID3 DT accuracy with training set size\")\n",
        "plt.plot(num,prunned_acc_plot)\n",
        "\n"
      ],
      "execution_count": 20,
      "outputs": [
        {
          "output_type": "stream",
          "name": "stdout",
          "text": [
            "Unprunned ID3 DT accuracy with training set size\n\nPrunned ID3 DT accuracy with training set size\n"
          ]
        },
        {
          "output_type": "execute_result",
          "data": {
            "text/plain": [
              "[<matplotlib.lines.Line2D at 0x255aa814760>]"
            ]
          },
          "metadata": {},
          "execution_count": 20
        },
        {
          "output_type": "display_data",
          "data": {
            "text/plain": "<Figure size 432x288 with 1 Axes>",
            "image/svg+xml": "<?xml version=\"1.0\" encoding=\"utf-8\" standalone=\"no\"?>\r\n<!DOCTYPE svg PUBLIC \"-//W3C//DTD SVG 1.1//EN\"\r\n  \"http://www.w3.org/Graphics/SVG/1.1/DTD/svg11.dtd\">\r\n<!-- Created with matplotlib (https://matplotlib.org/) -->\r\n<svg height=\"248.518125pt\" version=\"1.1\" viewBox=\"0 0 368.925 248.518125\" width=\"368.925pt\" xmlns=\"http://www.w3.org/2000/svg\" xmlns:xlink=\"http://www.w3.org/1999/xlink\">\r\n <metadata>\r\n  <rdf:RDF xmlns:cc=\"http://creativecommons.org/ns#\" xmlns:dc=\"http://purl.org/dc/elements/1.1/\" xmlns:rdf=\"http://www.w3.org/1999/02/22-rdf-syntax-ns#\">\r\n   <cc:Work>\r\n    <dc:type rdf:resource=\"http://purl.org/dc/dcmitype/StillImage\"/>\r\n    <dc:date>2021-02-11T21:54:21.548040</dc:date>\r\n    <dc:format>image/svg+xml</dc:format>\r\n    <dc:creator>\r\n     <cc:Agent>\r\n      <dc:title>Matplotlib v3.3.2, https://matplotlib.org/</dc:title>\r\n     </cc:Agent>\r\n    </dc:creator>\r\n   </cc:Work>\r\n  </rdf:RDF>\r\n </metadata>\r\n <defs>\r\n  <style type=\"text/css\">*{stroke-linecap:butt;stroke-linejoin:round;}</style>\r\n </defs>\r\n <g id=\"figure_1\">\r\n  <g id=\"patch_1\">\r\n   <path d=\"M -0 248.518125 \r\nL 368.925 248.518125 \r\nL 368.925 0 \r\nL -0 0 \r\nz\r\n\" style=\"fill:none;\"/>\r\n  </g>\r\n  <g id=\"axes_1\">\r\n   <g id=\"patch_2\">\r\n    <path d=\"M 26.925 224.64 \r\nL 361.725 224.64 \r\nL 361.725 7.2 \r\nL 26.925 7.2 \r\nz\r\n\" style=\"fill:#ffffff;\"/>\r\n   </g>\r\n   <g id=\"matplotlib.axis_1\">\r\n    <g id=\"xtick_1\">\r\n     <g id=\"line2d_1\">\r\n      <defs>\r\n       <path d=\"M 0 0 \r\nL 0 3.5 \r\n\" id=\"mf36b49153e\" style=\"stroke:#000000;stroke-width:0.8;\"/>\r\n      </defs>\r\n      <g>\r\n       <use style=\"stroke:#000000;stroke-width:0.8;\" x=\"40.100473\" xlink:href=\"#mf36b49153e\" y=\"224.64\"/>\r\n      </g>\r\n     </g>\r\n     <g id=\"text_1\">\r\n      <!-- 0 -->\r\n      <g transform=\"translate(36.919223 239.238437)scale(0.1 -0.1)\">\r\n       <defs>\r\n        <path d=\"M 31.78125 66.40625 \r\nQ 24.171875 66.40625 20.328125 58.90625 \r\nQ 16.5 51.421875 16.5 36.375 \r\nQ 16.5 21.390625 20.328125 13.890625 \r\nQ 24.171875 6.390625 31.78125 6.390625 \r\nQ 39.453125 6.390625 43.28125 13.890625 \r\nQ 47.125 21.390625 47.125 36.375 \r\nQ 47.125 51.421875 43.28125 58.90625 \r\nQ 39.453125 66.40625 31.78125 66.40625 \r\nz\r\nM 31.78125 74.21875 \r\nQ 44.046875 74.21875 50.515625 64.515625 \r\nQ 56.984375 54.828125 56.984375 36.375 \r\nQ 56.984375 17.96875 50.515625 8.265625 \r\nQ 44.046875 -1.421875 31.78125 -1.421875 \r\nQ 19.53125 -1.421875 13.0625 8.265625 \r\nQ 6.59375 17.96875 6.59375 36.375 \r\nQ 6.59375 54.828125 13.0625 64.515625 \r\nQ 19.53125 74.21875 31.78125 74.21875 \r\nz\r\n\" id=\"DejaVuSans-48\"/>\r\n       </defs>\r\n       <use xlink:href=\"#DejaVuSans-48\"/>\r\n      </g>\r\n     </g>\r\n    </g>\r\n    <g id=\"xtick_2\">\r\n     <g id=\"line2d_2\">\r\n      <g>\r\n       <use style=\"stroke:#000000;stroke-width:0.8;\" x=\"80.954652\" xlink:href=\"#mf36b49153e\" y=\"224.64\"/>\r\n      </g>\r\n     </g>\r\n     <g id=\"text_2\">\r\n      <!-- 200 -->\r\n      <g transform=\"translate(71.410902 239.238437)scale(0.1 -0.1)\">\r\n       <defs>\r\n        <path d=\"M 19.1875 8.296875 \r\nL 53.609375 8.296875 \r\nL 53.609375 0 \r\nL 7.328125 0 \r\nL 7.328125 8.296875 \r\nQ 12.9375 14.109375 22.625 23.890625 \r\nQ 32.328125 33.6875 34.8125 36.53125 \r\nQ 39.546875 41.84375 41.421875 45.53125 \r\nQ 43.3125 49.21875 43.3125 52.78125 \r\nQ 43.3125 58.59375 39.234375 62.25 \r\nQ 35.15625 65.921875 28.609375 65.921875 \r\nQ 23.96875 65.921875 18.8125 64.3125 \r\nQ 13.671875 62.703125 7.8125 59.421875 \r\nL 7.8125 69.390625 \r\nQ 13.765625 71.78125 18.9375 73 \r\nQ 24.125 74.21875 28.421875 74.21875 \r\nQ 39.75 74.21875 46.484375 68.546875 \r\nQ 53.21875 62.890625 53.21875 53.421875 \r\nQ 53.21875 48.921875 51.53125 44.890625 \r\nQ 49.859375 40.875 45.40625 35.40625 \r\nQ 44.1875 33.984375 37.640625 27.21875 \r\nQ 31.109375 20.453125 19.1875 8.296875 \r\nz\r\n\" id=\"DejaVuSans-50\"/>\r\n       </defs>\r\n       <use xlink:href=\"#DejaVuSans-50\"/>\r\n       <use x=\"63.623047\" xlink:href=\"#DejaVuSans-48\"/>\r\n       <use x=\"127.246094\" xlink:href=\"#DejaVuSans-48\"/>\r\n      </g>\r\n     </g>\r\n    </g>\r\n    <g id=\"xtick_3\">\r\n     <g id=\"line2d_3\">\r\n      <g>\r\n       <use style=\"stroke:#000000;stroke-width:0.8;\" x=\"121.808832\" xlink:href=\"#mf36b49153e\" y=\"224.64\"/>\r\n      </g>\r\n     </g>\r\n     <g id=\"text_3\">\r\n      <!-- 400 -->\r\n      <g transform=\"translate(112.265082 239.238437)scale(0.1 -0.1)\">\r\n       <defs>\r\n        <path d=\"M 37.796875 64.3125 \r\nL 12.890625 25.390625 \r\nL 37.796875 25.390625 \r\nz\r\nM 35.203125 72.90625 \r\nL 47.609375 72.90625 \r\nL 47.609375 25.390625 \r\nL 58.015625 25.390625 \r\nL 58.015625 17.1875 \r\nL 47.609375 17.1875 \r\nL 47.609375 0 \r\nL 37.796875 0 \r\nL 37.796875 17.1875 \r\nL 4.890625 17.1875 \r\nL 4.890625 26.703125 \r\nz\r\n\" id=\"DejaVuSans-52\"/>\r\n       </defs>\r\n       <use xlink:href=\"#DejaVuSans-52\"/>\r\n       <use x=\"63.623047\" xlink:href=\"#DejaVuSans-48\"/>\r\n       <use x=\"127.246094\" xlink:href=\"#DejaVuSans-48\"/>\r\n      </g>\r\n     </g>\r\n    </g>\r\n    <g id=\"xtick_4\">\r\n     <g id=\"line2d_4\">\r\n      <g>\r\n       <use style=\"stroke:#000000;stroke-width:0.8;\" x=\"162.663011\" xlink:href=\"#mf36b49153e\" y=\"224.64\"/>\r\n      </g>\r\n     </g>\r\n     <g id=\"text_4\">\r\n      <!-- 600 -->\r\n      <g transform=\"translate(153.119261 239.238437)scale(0.1 -0.1)\">\r\n       <defs>\r\n        <path d=\"M 33.015625 40.375 \r\nQ 26.375 40.375 22.484375 35.828125 \r\nQ 18.609375 31.296875 18.609375 23.390625 \r\nQ 18.609375 15.53125 22.484375 10.953125 \r\nQ 26.375 6.390625 33.015625 6.390625 \r\nQ 39.65625 6.390625 43.53125 10.953125 \r\nQ 47.40625 15.53125 47.40625 23.390625 \r\nQ 47.40625 31.296875 43.53125 35.828125 \r\nQ 39.65625 40.375 33.015625 40.375 \r\nz\r\nM 52.59375 71.296875 \r\nL 52.59375 62.3125 \r\nQ 48.875 64.0625 45.09375 64.984375 \r\nQ 41.3125 65.921875 37.59375 65.921875 \r\nQ 27.828125 65.921875 22.671875 59.328125 \r\nQ 17.53125 52.734375 16.796875 39.40625 \r\nQ 19.671875 43.65625 24.015625 45.921875 \r\nQ 28.375 48.1875 33.59375 48.1875 \r\nQ 44.578125 48.1875 50.953125 41.515625 \r\nQ 57.328125 34.859375 57.328125 23.390625 \r\nQ 57.328125 12.15625 50.6875 5.359375 \r\nQ 44.046875 -1.421875 33.015625 -1.421875 \r\nQ 20.359375 -1.421875 13.671875 8.265625 \r\nQ 6.984375 17.96875 6.984375 36.375 \r\nQ 6.984375 53.65625 15.1875 63.9375 \r\nQ 23.390625 74.21875 37.203125 74.21875 \r\nQ 40.921875 74.21875 44.703125 73.484375 \r\nQ 48.484375 72.75 52.59375 71.296875 \r\nz\r\n\" id=\"DejaVuSans-54\"/>\r\n       </defs>\r\n       <use xlink:href=\"#DejaVuSans-54\"/>\r\n       <use x=\"63.623047\" xlink:href=\"#DejaVuSans-48\"/>\r\n       <use x=\"127.246094\" xlink:href=\"#DejaVuSans-48\"/>\r\n      </g>\r\n     </g>\r\n    </g>\r\n    <g id=\"xtick_5\">\r\n     <g id=\"line2d_5\">\r\n      <g>\r\n       <use style=\"stroke:#000000;stroke-width:0.8;\" x=\"203.51719\" xlink:href=\"#mf36b49153e\" y=\"224.64\"/>\r\n      </g>\r\n     </g>\r\n     <g id=\"text_5\">\r\n      <!-- 800 -->\r\n      <g transform=\"translate(193.97344 239.238437)scale(0.1 -0.1)\">\r\n       <defs>\r\n        <path d=\"M 31.78125 34.625 \r\nQ 24.75 34.625 20.71875 30.859375 \r\nQ 16.703125 27.09375 16.703125 20.515625 \r\nQ 16.703125 13.921875 20.71875 10.15625 \r\nQ 24.75 6.390625 31.78125 6.390625 \r\nQ 38.8125 6.390625 42.859375 10.171875 \r\nQ 46.921875 13.96875 46.921875 20.515625 \r\nQ 46.921875 27.09375 42.890625 30.859375 \r\nQ 38.875 34.625 31.78125 34.625 \r\nz\r\nM 21.921875 38.8125 \r\nQ 15.578125 40.375 12.03125 44.71875 \r\nQ 8.5 49.078125 8.5 55.328125 \r\nQ 8.5 64.0625 14.71875 69.140625 \r\nQ 20.953125 74.21875 31.78125 74.21875 \r\nQ 42.671875 74.21875 48.875 69.140625 \r\nQ 55.078125 64.0625 55.078125 55.328125 \r\nQ 55.078125 49.078125 51.53125 44.71875 \r\nQ 48 40.375 41.703125 38.8125 \r\nQ 48.828125 37.15625 52.796875 32.3125 \r\nQ 56.78125 27.484375 56.78125 20.515625 \r\nQ 56.78125 9.90625 50.3125 4.234375 \r\nQ 43.84375 -1.421875 31.78125 -1.421875 \r\nQ 19.734375 -1.421875 13.25 4.234375 \r\nQ 6.78125 9.90625 6.78125 20.515625 \r\nQ 6.78125 27.484375 10.78125 32.3125 \r\nQ 14.796875 37.15625 21.921875 38.8125 \r\nz\r\nM 18.3125 54.390625 \r\nQ 18.3125 48.734375 21.84375 45.5625 \r\nQ 25.390625 42.390625 31.78125 42.390625 \r\nQ 38.140625 42.390625 41.71875 45.5625 \r\nQ 45.3125 48.734375 45.3125 54.390625 \r\nQ 45.3125 60.0625 41.71875 63.234375 \r\nQ 38.140625 66.40625 31.78125 66.40625 \r\nQ 25.390625 66.40625 21.84375 63.234375 \r\nQ 18.3125 60.0625 18.3125 54.390625 \r\nz\r\n\" id=\"DejaVuSans-56\"/>\r\n       </defs>\r\n       <use xlink:href=\"#DejaVuSans-56\"/>\r\n       <use x=\"63.623047\" xlink:href=\"#DejaVuSans-48\"/>\r\n       <use x=\"127.246094\" xlink:href=\"#DejaVuSans-48\"/>\r\n      </g>\r\n     </g>\r\n    </g>\r\n    <g id=\"xtick_6\">\r\n     <g id=\"line2d_6\">\r\n      <g>\r\n       <use style=\"stroke:#000000;stroke-width:0.8;\" x=\"244.37137\" xlink:href=\"#mf36b49153e\" y=\"224.64\"/>\r\n      </g>\r\n     </g>\r\n     <g id=\"text_6\">\r\n      <!-- 1000 -->\r\n      <g transform=\"translate(231.64637 239.238437)scale(0.1 -0.1)\">\r\n       <defs>\r\n        <path d=\"M 12.40625 8.296875 \r\nL 28.515625 8.296875 \r\nL 28.515625 63.921875 \r\nL 10.984375 60.40625 \r\nL 10.984375 69.390625 \r\nL 28.421875 72.90625 \r\nL 38.28125 72.90625 \r\nL 38.28125 8.296875 \r\nL 54.390625 8.296875 \r\nL 54.390625 0 \r\nL 12.40625 0 \r\nz\r\n\" id=\"DejaVuSans-49\"/>\r\n       </defs>\r\n       <use xlink:href=\"#DejaVuSans-49\"/>\r\n       <use x=\"63.623047\" xlink:href=\"#DejaVuSans-48\"/>\r\n       <use x=\"127.246094\" xlink:href=\"#DejaVuSans-48\"/>\r\n       <use x=\"190.869141\" xlink:href=\"#DejaVuSans-48\"/>\r\n      </g>\r\n     </g>\r\n    </g>\r\n    <g id=\"xtick_7\">\r\n     <g id=\"line2d_7\">\r\n      <g>\r\n       <use style=\"stroke:#000000;stroke-width:0.8;\" x=\"285.225549\" xlink:href=\"#mf36b49153e\" y=\"224.64\"/>\r\n      </g>\r\n     </g>\r\n     <g id=\"text_7\">\r\n      <!-- 1200 -->\r\n      <g transform=\"translate(272.500549 239.238437)scale(0.1 -0.1)\">\r\n       <use xlink:href=\"#DejaVuSans-49\"/>\r\n       <use x=\"63.623047\" xlink:href=\"#DejaVuSans-50\"/>\r\n       <use x=\"127.246094\" xlink:href=\"#DejaVuSans-48\"/>\r\n       <use x=\"190.869141\" xlink:href=\"#DejaVuSans-48\"/>\r\n      </g>\r\n     </g>\r\n    </g>\r\n    <g id=\"xtick_8\">\r\n     <g id=\"line2d_8\">\r\n      <g>\r\n       <use style=\"stroke:#000000;stroke-width:0.8;\" x=\"326.079728\" xlink:href=\"#mf36b49153e\" y=\"224.64\"/>\r\n      </g>\r\n     </g>\r\n     <g id=\"text_8\">\r\n      <!-- 1400 -->\r\n      <g transform=\"translate(313.354728 239.238437)scale(0.1 -0.1)\">\r\n       <use xlink:href=\"#DejaVuSans-49\"/>\r\n       <use x=\"63.623047\" xlink:href=\"#DejaVuSans-52\"/>\r\n       <use x=\"127.246094\" xlink:href=\"#DejaVuSans-48\"/>\r\n       <use x=\"190.869141\" xlink:href=\"#DejaVuSans-48\"/>\r\n      </g>\r\n     </g>\r\n    </g>\r\n   </g>\r\n   <g id=\"matplotlib.axis_2\">\r\n    <g id=\"ytick_1\">\r\n     <g id=\"line2d_9\">\r\n      <defs>\r\n       <path d=\"M 0 0 \r\nL -3.5 0 \r\n\" id=\"m68eb48a8ab\" style=\"stroke:#000000;stroke-width:0.8;\"/>\r\n      </defs>\r\n      <g>\r\n       <use style=\"stroke:#000000;stroke-width:0.8;\" x=\"26.925\" xlink:href=\"#m68eb48a8ab\" y=\"190.985593\"/>\r\n      </g>\r\n     </g>\r\n     <g id=\"text_9\">\r\n      <!-- 50 -->\r\n      <g transform=\"translate(7.2 194.784811)scale(0.1 -0.1)\">\r\n       <defs>\r\n        <path d=\"M 10.796875 72.90625 \r\nL 49.515625 72.90625 \r\nL 49.515625 64.59375 \r\nL 19.828125 64.59375 \r\nL 19.828125 46.734375 \r\nQ 21.96875 47.46875 24.109375 47.828125 \r\nQ 26.265625 48.1875 28.421875 48.1875 \r\nQ 40.625 48.1875 47.75 41.5 \r\nQ 54.890625 34.8125 54.890625 23.390625 \r\nQ 54.890625 11.625 47.5625 5.09375 \r\nQ 40.234375 -1.421875 26.90625 -1.421875 \r\nQ 22.3125 -1.421875 17.546875 -0.640625 \r\nQ 12.796875 0.140625 7.71875 1.703125 \r\nL 7.71875 11.625 \r\nQ 12.109375 9.234375 16.796875 8.0625 \r\nQ 21.484375 6.890625 26.703125 6.890625 \r\nQ 35.15625 6.890625 40.078125 11.328125 \r\nQ 45.015625 15.765625 45.015625 23.390625 \r\nQ 45.015625 31 40.078125 35.4375 \r\nQ 35.15625 39.890625 26.703125 39.890625 \r\nQ 22.75 39.890625 18.8125 39.015625 \r\nQ 14.890625 38.140625 10.796875 36.28125 \r\nz\r\n\" id=\"DejaVuSans-53\"/>\r\n       </defs>\r\n       <use xlink:href=\"#DejaVuSans-53\"/>\r\n       <use x=\"63.623047\" xlink:href=\"#DejaVuSans-48\"/>\r\n      </g>\r\n     </g>\r\n    </g>\r\n    <g id=\"ytick_2\">\r\n     <g id=\"line2d_10\">\r\n      <g>\r\n       <use style=\"stroke:#000000;stroke-width:0.8;\" x=\"26.925\" xlink:href=\"#m68eb48a8ab\" y=\"147.697768\"/>\r\n      </g>\r\n     </g>\r\n     <g id=\"text_10\">\r\n      <!-- 60 -->\r\n      <g transform=\"translate(7.2 151.496986)scale(0.1 -0.1)\">\r\n       <use xlink:href=\"#DejaVuSans-54\"/>\r\n       <use x=\"63.623047\" xlink:href=\"#DejaVuSans-48\"/>\r\n      </g>\r\n     </g>\r\n    </g>\r\n    <g id=\"ytick_3\">\r\n     <g id=\"line2d_11\">\r\n      <g>\r\n       <use style=\"stroke:#000000;stroke-width:0.8;\" x=\"26.925\" xlink:href=\"#m68eb48a8ab\" y=\"104.409942\"/>\r\n      </g>\r\n     </g>\r\n     <g id=\"text_11\">\r\n      <!-- 70 -->\r\n      <g transform=\"translate(7.2 108.209161)scale(0.1 -0.1)\">\r\n       <defs>\r\n        <path d=\"M 8.203125 72.90625 \r\nL 55.078125 72.90625 \r\nL 55.078125 68.703125 \r\nL 28.609375 0 \r\nL 18.3125 0 \r\nL 43.21875 64.59375 \r\nL 8.203125 64.59375 \r\nz\r\n\" id=\"DejaVuSans-55\"/>\r\n       </defs>\r\n       <use xlink:href=\"#DejaVuSans-55\"/>\r\n       <use x=\"63.623047\" xlink:href=\"#DejaVuSans-48\"/>\r\n      </g>\r\n     </g>\r\n    </g>\r\n    <g id=\"ytick_4\">\r\n     <g id=\"line2d_12\">\r\n      <g>\r\n       <use style=\"stroke:#000000;stroke-width:0.8;\" x=\"26.925\" xlink:href=\"#m68eb48a8ab\" y=\"61.122117\"/>\r\n      </g>\r\n     </g>\r\n     <g id=\"text_12\">\r\n      <!-- 80 -->\r\n      <g transform=\"translate(7.2 64.921336)scale(0.1 -0.1)\">\r\n       <use xlink:href=\"#DejaVuSans-56\"/>\r\n       <use x=\"63.623047\" xlink:href=\"#DejaVuSans-48\"/>\r\n      </g>\r\n     </g>\r\n    </g>\r\n    <g id=\"ytick_5\">\r\n     <g id=\"line2d_13\">\r\n      <g>\r\n       <use style=\"stroke:#000000;stroke-width:0.8;\" x=\"26.925\" xlink:href=\"#m68eb48a8ab\" y=\"17.834292\"/>\r\n      </g>\r\n     </g>\r\n     <g id=\"text_13\">\r\n      <!-- 90 -->\r\n      <g transform=\"translate(7.2 21.633511)scale(0.1 -0.1)\">\r\n       <defs>\r\n        <path d=\"M 10.984375 1.515625 \r\nL 10.984375 10.5 \r\nQ 14.703125 8.734375 18.5 7.8125 \r\nQ 22.3125 6.890625 25.984375 6.890625 \r\nQ 35.75 6.890625 40.890625 13.453125 \r\nQ 46.046875 20.015625 46.78125 33.40625 \r\nQ 43.953125 29.203125 39.59375 26.953125 \r\nQ 35.25 24.703125 29.984375 24.703125 \r\nQ 19.046875 24.703125 12.671875 31.3125 \r\nQ 6.296875 37.9375 6.296875 49.421875 \r\nQ 6.296875 60.640625 12.9375 67.421875 \r\nQ 19.578125 74.21875 30.609375 74.21875 \r\nQ 43.265625 74.21875 49.921875 64.515625 \r\nQ 56.59375 54.828125 56.59375 36.375 \r\nQ 56.59375 19.140625 48.40625 8.859375 \r\nQ 40.234375 -1.421875 26.421875 -1.421875 \r\nQ 22.703125 -1.421875 18.890625 -0.6875 \r\nQ 15.09375 0.046875 10.984375 1.515625 \r\nz\r\nM 30.609375 32.421875 \r\nQ 37.25 32.421875 41.125 36.953125 \r\nQ 45.015625 41.5 45.015625 49.421875 \r\nQ 45.015625 57.28125 41.125 61.84375 \r\nQ 37.25 66.40625 30.609375 66.40625 \r\nQ 23.96875 66.40625 20.09375 61.84375 \r\nQ 16.21875 57.28125 16.21875 49.421875 \r\nQ 16.21875 41.5 20.09375 36.953125 \r\nQ 23.96875 32.421875 30.609375 32.421875 \r\nz\r\n\" id=\"DejaVuSans-57\"/>\r\n       </defs>\r\n       <use xlink:href=\"#DejaVuSans-57\"/>\r\n       <use x=\"63.623047\" xlink:href=\"#DejaVuSans-48\"/>\r\n      </g>\r\n     </g>\r\n    </g>\r\n   </g>\r\n   <g id=\"line2d_14\">\r\n    <path clip-path=\"url(#p2e80076678)\" d=\"M 42.143182 214.756364 \r\nL 60.527563 97.153602 \r\nL 80.954652 87.144856 \r\nL 101.381742 62.122992 \r\nL 142.235921 39.603314 \r\nL 183.090101 32.096755 \r\nL 203.51719 29.594568 \r\nL 223.94428 42.105501 \r\nL 244.37137 29.594568 \r\nL 346.506818 17.083636 \r\n\" style=\"fill:none;stroke:#1f77b4;stroke-linecap:square;stroke-width:1.5;\"/>\r\n   </g>\r\n   <g id=\"line2d_15\">\r\n    <path clip-path=\"url(#p2e80076678)\" d=\"M 42.143182 214.756364 \r\nL 60.527563 92.149229 \r\nL 80.954652 94.651415 \r\nL 101.381742 64.625178 \r\nL 142.235921 34.598941 \r\nL 183.090101 32.096755 \r\nL 203.51719 29.594568 \r\nL 223.94428 42.105501 \r\nL 244.37137 29.594568 \r\nL 346.506818 17.083636 \r\n\" style=\"fill:none;stroke:#ff7f0e;stroke-linecap:square;stroke-width:1.5;\"/>\r\n   </g>\r\n   <g id=\"patch_3\">\r\n    <path d=\"M 26.925 224.64 \r\nL 26.925 7.2 \r\n\" style=\"fill:none;stroke:#000000;stroke-linecap:square;stroke-linejoin:miter;stroke-width:0.8;\"/>\r\n   </g>\r\n   <g id=\"patch_4\">\r\n    <path d=\"M 361.725 224.64 \r\nL 361.725 7.2 \r\n\" style=\"fill:none;stroke:#000000;stroke-linecap:square;stroke-linejoin:miter;stroke-width:0.8;\"/>\r\n   </g>\r\n   <g id=\"patch_5\">\r\n    <path d=\"M 26.925 224.64 \r\nL 361.725 224.64 \r\n\" style=\"fill:none;stroke:#000000;stroke-linecap:square;stroke-linejoin:miter;stroke-width:0.8;\"/>\r\n   </g>\r\n   <g id=\"patch_6\">\r\n    <path d=\"M 26.925 7.2 \r\nL 361.725 7.2 \r\n\" style=\"fill:none;stroke:#000000;stroke-linecap:square;stroke-linejoin:miter;stroke-width:0.8;\"/>\r\n   </g>\r\n  </g>\r\n </g>\r\n <defs>\r\n  <clipPath id=\"p2e80076678\">\r\n   <rect height=\"217.44\" width=\"334.8\" x=\"26.925\" y=\"7.2\"/>\r\n  </clipPath>\r\n </defs>\r\n</svg>\r\n",
            "image/png": "[encoded data removed]"
          },
          "metadata": {
            "needs_background": "light"
          }
        }
      ]
    },
    {
      "cell_type": "code",
      "execution_count": 21,
      "metadata": {},
      "outputs": [
        {
          "output_type": "stream",
          "name": "stdout",
          "text": [
            "Unprunned Gini Impurity DT accuracy with training set size\n\nPrunned Gini Impurity DT accuracy with training set size\n"
          ]
        },
        {
          "output_type": "execute_result",
          "data": {
            "text/plain": [
              "[<matplotlib.lines.Line2D at 0x255aab3f190>]"
            ]
          },
          "metadata": {},
          "execution_count": 21
        },
        {
          "output_type": "display_data",
          "data": {
            "text/plain": "<Figure size 432x288 with 1 Axes>",
            "image/svg+xml": "<?xml version=\"1.0\" encoding=\"utf-8\" standalone=\"no\"?>\r\n<!DOCTYPE svg PUBLIC \"-//W3C//DTD SVG 1.1//EN\"\r\n  \"http://www.w3.org/Graphics/SVG/1.1/DTD/svg11.dtd\">\r\n<!-- Created with matplotlib (https://matplotlib.org/) -->\r\n<svg height=\"248.518125pt\" version=\"1.1\" viewBox=\"0 0 368.925 248.518125\" width=\"368.925pt\" xmlns=\"http://www.w3.org/2000/svg\" xmlns:xlink=\"http://www.w3.org/1999/xlink\">\r\n <metadata>\r\n  <rdf:RDF xmlns:cc=\"http://creativecommons.org/ns#\" xmlns:dc=\"http://purl.org/dc/elements/1.1/\" xmlns:rdf=\"http://www.w3.org/1999/02/22-rdf-syntax-ns#\">\r\n   <cc:Work>\r\n    <dc:type rdf:resource=\"http://purl.org/dc/dcmitype/StillImage\"/>\r\n    <dc:date>2021-02-11T21:54:21.867066</dc:date>\r\n    <dc:format>image/svg+xml</dc:format>\r\n    <dc:creator>\r\n     <cc:Agent>\r\n      <dc:title>Matplotlib v3.3.2, https://matplotlib.org/</dc:title>\r\n     </cc:Agent>\r\n    </dc:creator>\r\n   </cc:Work>\r\n  </rdf:RDF>\r\n </metadata>\r\n <defs>\r\n  <style type=\"text/css\">*{stroke-linecap:butt;stroke-linejoin:round;}</style>\r\n </defs>\r\n <g id=\"figure_1\">\r\n  <g id=\"patch_1\">\r\n   <path d=\"M -0 248.518125 \r\nL 368.925 248.518125 \r\nL 368.925 0 \r\nL -0 0 \r\nz\r\n\" style=\"fill:none;\"/>\r\n  </g>\r\n  <g id=\"axes_1\">\r\n   <g id=\"patch_2\">\r\n    <path d=\"M 26.925 224.64 \r\nL 361.725 224.64 \r\nL 361.725 7.2 \r\nL 26.925 7.2 \r\nz\r\n\" style=\"fill:#ffffff;\"/>\r\n   </g>\r\n   <g id=\"matplotlib.axis_1\">\r\n    <g id=\"xtick_1\">\r\n     <g id=\"line2d_1\">\r\n      <defs>\r\n       <path d=\"M 0 0 \r\nL 0 3.5 \r\n\" id=\"m2517d04fb0\" style=\"stroke:#000000;stroke-width:0.8;\"/>\r\n      </defs>\r\n      <g>\r\n       <use style=\"stroke:#000000;stroke-width:0.8;\" x=\"40.100473\" xlink:href=\"#m2517d04fb0\" y=\"224.64\"/>\r\n      </g>\r\n     </g>\r\n     <g id=\"text_1\">\r\n      <!-- 0 -->\r\n      <g transform=\"translate(36.919223 239.238437)scale(0.1 -0.1)\">\r\n       <defs>\r\n        <path d=\"M 31.78125 66.40625 \r\nQ 24.171875 66.40625 20.328125 58.90625 \r\nQ 16.5 51.421875 16.5 36.375 \r\nQ 16.5 21.390625 20.328125 13.890625 \r\nQ 24.171875 6.390625 31.78125 6.390625 \r\nQ 39.453125 6.390625 43.28125 13.890625 \r\nQ 47.125 21.390625 47.125 36.375 \r\nQ 47.125 51.421875 43.28125 58.90625 \r\nQ 39.453125 66.40625 31.78125 66.40625 \r\nz\r\nM 31.78125 74.21875 \r\nQ 44.046875 74.21875 50.515625 64.515625 \r\nQ 56.984375 54.828125 56.984375 36.375 \r\nQ 56.984375 17.96875 50.515625 8.265625 \r\nQ 44.046875 -1.421875 31.78125 -1.421875 \r\nQ 19.53125 -1.421875 13.0625 8.265625 \r\nQ 6.59375 17.96875 6.59375 36.375 \r\nQ 6.59375 54.828125 13.0625 64.515625 \r\nQ 19.53125 74.21875 31.78125 74.21875 \r\nz\r\n\" id=\"DejaVuSans-48\"/>\r\n       </defs>\r\n       <use xlink:href=\"#DejaVuSans-48\"/>\r\n      </g>\r\n     </g>\r\n    </g>\r\n    <g id=\"xtick_2\">\r\n     <g id=\"line2d_2\">\r\n      <g>\r\n       <use style=\"stroke:#000000;stroke-width:0.8;\" x=\"80.954652\" xlink:href=\"#m2517d04fb0\" y=\"224.64\"/>\r\n      </g>\r\n     </g>\r\n     <g id=\"text_2\">\r\n      <!-- 200 -->\r\n      <g transform=\"translate(71.410902 239.238437)scale(0.1 -0.1)\">\r\n       <defs>\r\n        <path d=\"M 19.1875 8.296875 \r\nL 53.609375 8.296875 \r\nL 53.609375 0 \r\nL 7.328125 0 \r\nL 7.328125 8.296875 \r\nQ 12.9375 14.109375 22.625 23.890625 \r\nQ 32.328125 33.6875 34.8125 36.53125 \r\nQ 39.546875 41.84375 41.421875 45.53125 \r\nQ 43.3125 49.21875 43.3125 52.78125 \r\nQ 43.3125 58.59375 39.234375 62.25 \r\nQ 35.15625 65.921875 28.609375 65.921875 \r\nQ 23.96875 65.921875 18.8125 64.3125 \r\nQ 13.671875 62.703125 7.8125 59.421875 \r\nL 7.8125 69.390625 \r\nQ 13.765625 71.78125 18.9375 73 \r\nQ 24.125 74.21875 28.421875 74.21875 \r\nQ 39.75 74.21875 46.484375 68.546875 \r\nQ 53.21875 62.890625 53.21875 53.421875 \r\nQ 53.21875 48.921875 51.53125 44.890625 \r\nQ 49.859375 40.875 45.40625 35.40625 \r\nQ 44.1875 33.984375 37.640625 27.21875 \r\nQ 31.109375 20.453125 19.1875 8.296875 \r\nz\r\n\" id=\"DejaVuSans-50\"/>\r\n       </defs>\r\n       <use xlink:href=\"#DejaVuSans-50\"/>\r\n       <use x=\"63.623047\" xlink:href=\"#DejaVuSans-48\"/>\r\n       <use x=\"127.246094\" xlink:href=\"#DejaVuSans-48\"/>\r\n      </g>\r\n     </g>\r\n    </g>\r\n    <g id=\"xtick_3\">\r\n     <g id=\"line2d_3\">\r\n      <g>\r\n       <use style=\"stroke:#000000;stroke-width:0.8;\" x=\"121.808832\" xlink:href=\"#m2517d04fb0\" y=\"224.64\"/>\r\n      </g>\r\n     </g>\r\n     <g id=\"text_3\">\r\n      <!-- 400 -->\r\n      <g transform=\"translate(112.265082 239.238437)scale(0.1 -0.1)\">\r\n       <defs>\r\n        <path d=\"M 37.796875 64.3125 \r\nL 12.890625 25.390625 \r\nL 37.796875 25.390625 \r\nz\r\nM 35.203125 72.90625 \r\nL 47.609375 72.90625 \r\nL 47.609375 25.390625 \r\nL 58.015625 25.390625 \r\nL 58.015625 17.1875 \r\nL 47.609375 17.1875 \r\nL 47.609375 0 \r\nL 37.796875 0 \r\nL 37.796875 17.1875 \r\nL 4.890625 17.1875 \r\nL 4.890625 26.703125 \r\nz\r\n\" id=\"DejaVuSans-52\"/>\r\n       </defs>\r\n       <use xlink:href=\"#DejaVuSans-52\"/>\r\n       <use x=\"63.623047\" xlink:href=\"#DejaVuSans-48\"/>\r\n       <use x=\"127.246094\" xlink:href=\"#DejaVuSans-48\"/>\r\n      </g>\r\n     </g>\r\n    </g>\r\n    <g id=\"xtick_4\">\r\n     <g id=\"line2d_4\">\r\n      <g>\r\n       <use style=\"stroke:#000000;stroke-width:0.8;\" x=\"162.663011\" xlink:href=\"#m2517d04fb0\" y=\"224.64\"/>\r\n      </g>\r\n     </g>\r\n     <g id=\"text_4\">\r\n      <!-- 600 -->\r\n      <g transform=\"translate(153.119261 239.238437)scale(0.1 -0.1)\">\r\n       <defs>\r\n        <path d=\"M 33.015625 40.375 \r\nQ 26.375 40.375 22.484375 35.828125 \r\nQ 18.609375 31.296875 18.609375 23.390625 \r\nQ 18.609375 15.53125 22.484375 10.953125 \r\nQ 26.375 6.390625 33.015625 6.390625 \r\nQ 39.65625 6.390625 43.53125 10.953125 \r\nQ 47.40625 15.53125 47.40625 23.390625 \r\nQ 47.40625 31.296875 43.53125 35.828125 \r\nQ 39.65625 40.375 33.015625 40.375 \r\nz\r\nM 52.59375 71.296875 \r\nL 52.59375 62.3125 \r\nQ 48.875 64.0625 45.09375 64.984375 \r\nQ 41.3125 65.921875 37.59375 65.921875 \r\nQ 27.828125 65.921875 22.671875 59.328125 \r\nQ 17.53125 52.734375 16.796875 39.40625 \r\nQ 19.671875 43.65625 24.015625 45.921875 \r\nQ 28.375 48.1875 33.59375 48.1875 \r\nQ 44.578125 48.1875 50.953125 41.515625 \r\nQ 57.328125 34.859375 57.328125 23.390625 \r\nQ 57.328125 12.15625 50.6875 5.359375 \r\nQ 44.046875 -1.421875 33.015625 -1.421875 \r\nQ 20.359375 -1.421875 13.671875 8.265625 \r\nQ 6.984375 17.96875 6.984375 36.375 \r\nQ 6.984375 53.65625 15.1875 63.9375 \r\nQ 23.390625 74.21875 37.203125 74.21875 \r\nQ 40.921875 74.21875 44.703125 73.484375 \r\nQ 48.484375 72.75 52.59375 71.296875 \r\nz\r\n\" id=\"DejaVuSans-54\"/>\r\n       </defs>\r\n       <use xlink:href=\"#DejaVuSans-54\"/>\r\n       <use x=\"63.623047\" xlink:href=\"#DejaVuSans-48\"/>\r\n       <use x=\"127.246094\" xlink:href=\"#DejaVuSans-48\"/>\r\n      </g>\r\n     </g>\r\n    </g>\r\n    <g id=\"xtick_5\">\r\n     <g id=\"line2d_5\">\r\n      <g>\r\n       <use style=\"stroke:#000000;stroke-width:0.8;\" x=\"203.51719\" xlink:href=\"#m2517d04fb0\" y=\"224.64\"/>\r\n      </g>\r\n     </g>\r\n     <g id=\"text_5\">\r\n      <!-- 800 -->\r\n      <g transform=\"translate(193.97344 239.238437)scale(0.1 -0.1)\">\r\n       <defs>\r\n        <path d=\"M 31.78125 34.625 \r\nQ 24.75 34.625 20.71875 30.859375 \r\nQ 16.703125 27.09375 16.703125 20.515625 \r\nQ 16.703125 13.921875 20.71875 10.15625 \r\nQ 24.75 6.390625 31.78125 6.390625 \r\nQ 38.8125 6.390625 42.859375 10.171875 \r\nQ 46.921875 13.96875 46.921875 20.515625 \r\nQ 46.921875 27.09375 42.890625 30.859375 \r\nQ 38.875 34.625 31.78125 34.625 \r\nz\r\nM 21.921875 38.8125 \r\nQ 15.578125 40.375 12.03125 44.71875 \r\nQ 8.5 49.078125 8.5 55.328125 \r\nQ 8.5 64.0625 14.71875 69.140625 \r\nQ 20.953125 74.21875 31.78125 74.21875 \r\nQ 42.671875 74.21875 48.875 69.140625 \r\nQ 55.078125 64.0625 55.078125 55.328125 \r\nQ 55.078125 49.078125 51.53125 44.71875 \r\nQ 48 40.375 41.703125 38.8125 \r\nQ 48.828125 37.15625 52.796875 32.3125 \r\nQ 56.78125 27.484375 56.78125 20.515625 \r\nQ 56.78125 9.90625 50.3125 4.234375 \r\nQ 43.84375 -1.421875 31.78125 -1.421875 \r\nQ 19.734375 -1.421875 13.25 4.234375 \r\nQ 6.78125 9.90625 6.78125 20.515625 \r\nQ 6.78125 27.484375 10.78125 32.3125 \r\nQ 14.796875 37.15625 21.921875 38.8125 \r\nz\r\nM 18.3125 54.390625 \r\nQ 18.3125 48.734375 21.84375 45.5625 \r\nQ 25.390625 42.390625 31.78125 42.390625 \r\nQ 38.140625 42.390625 41.71875 45.5625 \r\nQ 45.3125 48.734375 45.3125 54.390625 \r\nQ 45.3125 60.0625 41.71875 63.234375 \r\nQ 38.140625 66.40625 31.78125 66.40625 \r\nQ 25.390625 66.40625 21.84375 63.234375 \r\nQ 18.3125 60.0625 18.3125 54.390625 \r\nz\r\n\" id=\"DejaVuSans-56\"/>\r\n       </defs>\r\n       <use xlink:href=\"#DejaVuSans-56\"/>\r\n       <use x=\"63.623047\" xlink:href=\"#DejaVuSans-48\"/>\r\n       <use x=\"127.246094\" xlink:href=\"#DejaVuSans-48\"/>\r\n      </g>\r\n     </g>\r\n    </g>\r\n    <g id=\"xtick_6\">\r\n     <g id=\"line2d_6\">\r\n      <g>\r\n       <use style=\"stroke:#000000;stroke-width:0.8;\" x=\"244.37137\" xlink:href=\"#m2517d04fb0\" y=\"224.64\"/>\r\n      </g>\r\n     </g>\r\n     <g id=\"text_6\">\r\n      <!-- 1000 -->\r\n      <g transform=\"translate(231.64637 239.238437)scale(0.1 -0.1)\">\r\n       <defs>\r\n        <path d=\"M 12.40625 8.296875 \r\nL 28.515625 8.296875 \r\nL 28.515625 63.921875 \r\nL 10.984375 60.40625 \r\nL 10.984375 69.390625 \r\nL 28.421875 72.90625 \r\nL 38.28125 72.90625 \r\nL 38.28125 8.296875 \r\nL 54.390625 8.296875 \r\nL 54.390625 0 \r\nL 12.40625 0 \r\nz\r\n\" id=\"DejaVuSans-49\"/>\r\n       </defs>\r\n       <use xlink:href=\"#DejaVuSans-49\"/>\r\n       <use x=\"63.623047\" xlink:href=\"#DejaVuSans-48\"/>\r\n       <use x=\"127.246094\" xlink:href=\"#DejaVuSans-48\"/>\r\n       <use x=\"190.869141\" xlink:href=\"#DejaVuSans-48\"/>\r\n      </g>\r\n     </g>\r\n    </g>\r\n    <g id=\"xtick_7\">\r\n     <g id=\"line2d_7\">\r\n      <g>\r\n       <use style=\"stroke:#000000;stroke-width:0.8;\" x=\"285.225549\" xlink:href=\"#m2517d04fb0\" y=\"224.64\"/>\r\n      </g>\r\n     </g>\r\n     <g id=\"text_7\">\r\n      <!-- 1200 -->\r\n      <g transform=\"translate(272.500549 239.238437)scale(0.1 -0.1)\">\r\n       <use xlink:href=\"#DejaVuSans-49\"/>\r\n       <use x=\"63.623047\" xlink:href=\"#DejaVuSans-50\"/>\r\n       <use x=\"127.246094\" xlink:href=\"#DejaVuSans-48\"/>\r\n       <use x=\"190.869141\" xlink:href=\"#DejaVuSans-48\"/>\r\n      </g>\r\n     </g>\r\n    </g>\r\n    <g id=\"xtick_8\">\r\n     <g id=\"line2d_8\">\r\n      <g>\r\n       <use style=\"stroke:#000000;stroke-width:0.8;\" x=\"326.079728\" xlink:href=\"#m2517d04fb0\" y=\"224.64\"/>\r\n      </g>\r\n     </g>\r\n     <g id=\"text_8\">\r\n      <!-- 1400 -->\r\n      <g transform=\"translate(313.354728 239.238437)scale(0.1 -0.1)\">\r\n       <use xlink:href=\"#DejaVuSans-49\"/>\r\n       <use x=\"63.623047\" xlink:href=\"#DejaVuSans-52\"/>\r\n       <use x=\"127.246094\" xlink:href=\"#DejaVuSans-48\"/>\r\n       <use x=\"190.869141\" xlink:href=\"#DejaVuSans-48\"/>\r\n      </g>\r\n     </g>\r\n    </g>\r\n   </g>\r\n   <g id=\"matplotlib.axis_2\">\r\n    <g id=\"ytick_1\">\r\n     <g id=\"line2d_9\">\r\n      <defs>\r\n       <path d=\"M 0 0 \r\nL -3.5 0 \r\n\" id=\"me817e258d1\" style=\"stroke:#000000;stroke-width:0.8;\"/>\r\n      </defs>\r\n      <g>\r\n       <use style=\"stroke:#000000;stroke-width:0.8;\" x=\"26.925\" xlink:href=\"#me817e258d1\" y=\"190.985593\"/>\r\n      </g>\r\n     </g>\r\n     <g id=\"text_9\">\r\n      <!-- 50 -->\r\n      <g transform=\"translate(7.2 194.784811)scale(0.1 -0.1)\">\r\n       <defs>\r\n        <path d=\"M 10.796875 72.90625 \r\nL 49.515625 72.90625 \r\nL 49.515625 64.59375 \r\nL 19.828125 64.59375 \r\nL 19.828125 46.734375 \r\nQ 21.96875 47.46875 24.109375 47.828125 \r\nQ 26.265625 48.1875 28.421875 48.1875 \r\nQ 40.625 48.1875 47.75 41.5 \r\nQ 54.890625 34.8125 54.890625 23.390625 \r\nQ 54.890625 11.625 47.5625 5.09375 \r\nQ 40.234375 -1.421875 26.90625 -1.421875 \r\nQ 22.3125 -1.421875 17.546875 -0.640625 \r\nQ 12.796875 0.140625 7.71875 1.703125 \r\nL 7.71875 11.625 \r\nQ 12.109375 9.234375 16.796875 8.0625 \r\nQ 21.484375 6.890625 26.703125 6.890625 \r\nQ 35.15625 6.890625 40.078125 11.328125 \r\nQ 45.015625 15.765625 45.015625 23.390625 \r\nQ 45.015625 31 40.078125 35.4375 \r\nQ 35.15625 39.890625 26.703125 39.890625 \r\nQ 22.75 39.890625 18.8125 39.015625 \r\nQ 14.890625 38.140625 10.796875 36.28125 \r\nz\r\n\" id=\"DejaVuSans-53\"/>\r\n       </defs>\r\n       <use xlink:href=\"#DejaVuSans-53\"/>\r\n       <use x=\"63.623047\" xlink:href=\"#DejaVuSans-48\"/>\r\n      </g>\r\n     </g>\r\n    </g>\r\n    <g id=\"ytick_2\">\r\n     <g id=\"line2d_10\">\r\n      <g>\r\n       <use style=\"stroke:#000000;stroke-width:0.8;\" x=\"26.925\" xlink:href=\"#me817e258d1\" y=\"147.697768\"/>\r\n      </g>\r\n     </g>\r\n     <g id=\"text_10\">\r\n      <!-- 60 -->\r\n      <g transform=\"translate(7.2 151.496986)scale(0.1 -0.1)\">\r\n       <use xlink:href=\"#DejaVuSans-54\"/>\r\n       <use x=\"63.623047\" xlink:href=\"#DejaVuSans-48\"/>\r\n      </g>\r\n     </g>\r\n    </g>\r\n    <g id=\"ytick_3\">\r\n     <g id=\"line2d_11\">\r\n      <g>\r\n       <use style=\"stroke:#000000;stroke-width:0.8;\" x=\"26.925\" xlink:href=\"#me817e258d1\" y=\"104.409942\"/>\r\n      </g>\r\n     </g>\r\n     <g id=\"text_11\">\r\n      <!-- 70 -->\r\n      <g transform=\"translate(7.2 108.209161)scale(0.1 -0.1)\">\r\n       <defs>\r\n        <path d=\"M 8.203125 72.90625 \r\nL 55.078125 72.90625 \r\nL 55.078125 68.703125 \r\nL 28.609375 0 \r\nL 18.3125 0 \r\nL 43.21875 64.59375 \r\nL 8.203125 64.59375 \r\nz\r\n\" id=\"DejaVuSans-55\"/>\r\n       </defs>\r\n       <use xlink:href=\"#DejaVuSans-55\"/>\r\n       <use x=\"63.623047\" xlink:href=\"#DejaVuSans-48\"/>\r\n      </g>\r\n     </g>\r\n    </g>\r\n    <g id=\"ytick_4\">\r\n     <g id=\"line2d_12\">\r\n      <g>\r\n       <use style=\"stroke:#000000;stroke-width:0.8;\" x=\"26.925\" xlink:href=\"#me817e258d1\" y=\"61.122117\"/>\r\n      </g>\r\n     </g>\r\n     <g id=\"text_12\">\r\n      <!-- 80 -->\r\n      <g transform=\"translate(7.2 64.921336)scale(0.1 -0.1)\">\r\n       <use xlink:href=\"#DejaVuSans-56\"/>\r\n       <use x=\"63.623047\" xlink:href=\"#DejaVuSans-48\"/>\r\n      </g>\r\n     </g>\r\n    </g>\r\n    <g id=\"ytick_5\">\r\n     <g id=\"line2d_13\">\r\n      <g>\r\n       <use style=\"stroke:#000000;stroke-width:0.8;\" x=\"26.925\" xlink:href=\"#me817e258d1\" y=\"17.834292\"/>\r\n      </g>\r\n     </g>\r\n     <g id=\"text_13\">\r\n      <!-- 90 -->\r\n      <g transform=\"translate(7.2 21.633511)scale(0.1 -0.1)\">\r\n       <defs>\r\n        <path d=\"M 10.984375 1.515625 \r\nL 10.984375 10.5 \r\nQ 14.703125 8.734375 18.5 7.8125 \r\nQ 22.3125 6.890625 25.984375 6.890625 \r\nQ 35.75 6.890625 40.890625 13.453125 \r\nQ 46.046875 20.015625 46.78125 33.40625 \r\nQ 43.953125 29.203125 39.59375 26.953125 \r\nQ 35.25 24.703125 29.984375 24.703125 \r\nQ 19.046875 24.703125 12.671875 31.3125 \r\nQ 6.296875 37.9375 6.296875 49.421875 \r\nQ 6.296875 60.640625 12.9375 67.421875 \r\nQ 19.578125 74.21875 30.609375 74.21875 \r\nQ 43.265625 74.21875 49.921875 64.515625 \r\nQ 56.59375 54.828125 56.59375 36.375 \r\nQ 56.59375 19.140625 48.40625 8.859375 \r\nQ 40.234375 -1.421875 26.421875 -1.421875 \r\nQ 22.703125 -1.421875 18.890625 -0.6875 \r\nQ 15.09375 0.046875 10.984375 1.515625 \r\nz\r\nM 30.609375 32.421875 \r\nQ 37.25 32.421875 41.125 36.953125 \r\nQ 45.015625 41.5 45.015625 49.421875 \r\nQ 45.015625 57.28125 41.125 61.84375 \r\nQ 37.25 66.40625 30.609375 66.40625 \r\nQ 23.96875 66.40625 20.09375 61.84375 \r\nQ 16.21875 57.28125 16.21875 49.421875 \r\nQ 16.21875 41.5 20.09375 36.953125 \r\nQ 23.96875 32.421875 30.609375 32.421875 \r\nz\r\n\" id=\"DejaVuSans-57\"/>\r\n       </defs>\r\n       <use xlink:href=\"#DejaVuSans-57\"/>\r\n       <use x=\"63.623047\" xlink:href=\"#DejaVuSans-48\"/>\r\n      </g>\r\n     </g>\r\n    </g>\r\n   </g>\r\n   <g id=\"line2d_14\">\r\n    <path clip-path=\"url(#p102a19439d)\" d=\"M 42.143182 214.756364 \r\nL 60.527563 92.149229 \r\nL 80.954652 87.144856 \r\nL 101.381742 59.620806 \r\nL 142.235921 37.101128 \r\nL 183.090101 29.594568 \r\nL 203.51719 24.590196 \r\nL 223.94428 42.105501 \r\nL 244.37137 29.594568 \r\nL 346.506818 17.083636 \r\n\" style=\"fill:none;stroke:#1f77b4;stroke-linecap:square;stroke-width:1.5;\"/>\r\n   </g>\r\n   <g id=\"line2d_15\">\r\n    <path clip-path=\"url(#p102a19439d)\" d=\"M 42.143182 214.756364 \r\nL 60.527563 94.651415 \r\nL 80.954652 94.651415 \r\nL 101.381742 64.625178 \r\nL 142.235921 29.594568 \r\nL 183.090101 29.594568 \r\nL 203.51719 24.590196 \r\nL 223.94428 42.105501 \r\nL 244.37137 29.594568 \r\nL 346.506818 17.083636 \r\n\" style=\"fill:none;stroke:#ff7f0e;stroke-linecap:square;stroke-width:1.5;\"/>\r\n   </g>\r\n   <g id=\"patch_3\">\r\n    <path d=\"M 26.925 224.64 \r\nL 26.925 7.2 \r\n\" style=\"fill:none;stroke:#000000;stroke-linecap:square;stroke-linejoin:miter;stroke-width:0.8;\"/>\r\n   </g>\r\n   <g id=\"patch_4\">\r\n    <path d=\"M 361.725 224.64 \r\nL 361.725 7.2 \r\n\" style=\"fill:none;stroke:#000000;stroke-linecap:square;stroke-linejoin:miter;stroke-width:0.8;\"/>\r\n   </g>\r\n   <g id=\"patch_5\">\r\n    <path d=\"M 26.925 224.64 \r\nL 361.725 224.64 \r\n\" style=\"fill:none;stroke:#000000;stroke-linecap:square;stroke-linejoin:miter;stroke-width:0.8;\"/>\r\n   </g>\r\n   <g id=\"patch_6\">\r\n    <path d=\"M 26.925 7.2 \r\nL 361.725 7.2 \r\n\" style=\"fill:none;stroke:#000000;stroke-linecap:square;stroke-linejoin:miter;stroke-width:0.8;\"/>\r\n   </g>\r\n  </g>\r\n </g>\r\n <defs>\r\n  <clipPath id=\"p102a19439d\">\r\n   <rect height=\"217.44\" width=\"334.8\" x=\"26.925\" y=\"7.2\"/>\r\n  </clipPath>\r\n </defs>\r\n</svg>\r\n",
            "image/png": "[encoded data removed]"
          },
          "metadata": {
            "needs_background": "light"
          }
        }
      ],
      "source": [
        "#Accuracy Plot for gini Impurity vs Training set size\n",
        "\n",
        "print(\"Unprunned Gini Impurity DT accuracy with training set size\")\n",
        "plt.plot(num,unprunned_acc_gini_plot)\n",
        "\n",
        "print()\n",
        "print(\"Prunned Gini Impurity DT accuracy with training set size\")\n",
        "plt.plot(num,prunned_acc_gini_plot)"
      ]
    },
    {
      "cell_type": "code",
      "metadata": {
        "id": "Ivxw26Rzkzsr"
      },
      "source": [
        "#Gini, ID3 Accuracy Results With and Without Pruning\n",
        "\n",
        "prune_gini=DecisionTree('gini')\n",
        "prune_gini.fit(X_train1,Y_train1,4)\n",
        "print('\\nWithout Prunning')\n",
        "print('Training Accuracy:',prune_gini.cal_accuracy(train_x,train_y))\n",
        "print('Testing Accuracy:',prune_gini.cal_accuracy(test_x,test_y))\n",
        "print('Validation Accuracy',prune_gini.cal_accuracy(X_valid,Y_valid))\n",
        "print('\\nWith Prunning')\n",
        "prune(prune_gini,X_valid,Y_valid,prune_gini.parent_node)\n",
        "\n",
        "print('Training Accuracy:',prune_gini.cal_accuracy(train_x,train_y))\n",
        "print('Testing Accuracy:',prune_gini.cal_accuracy(test_x,test_y))\n",
        "print('Valididation Accuracy',prune_gini.cal_accuracy(X_valid,Y_valid))\n",
        "\n",
        "prune_info=DecisionTree('info')\n",
        "prune_info.fit(X_train1,Y_train1,4)\n",
        "print('\\nWith Prunning')\n",
        "prune(prune_info,X_valid,Y_valid,prune_info.parent_node)\n",
        "\n",
        "print('Training Accuracy:',prune_info.cal_accuracy(train_x,train_y))\n",
        "print('Testing Accuracy:',prune_info.cal_accuracy(test_x,test_y))\n",
        "print('Validation Accuracy',prune_info.cal_accuracy(X_valid,Y_valid))\n"
      ],
      "execution_count": 18,
      "outputs": [
        {
          "output_type": "stream",
          "name": "stdout",
          "text": [
            "\n",
            "Without Prunning\n",
            "Training Accuracy: 99.35691318327974\n",
            "Testing Accuracy: 90.17341040462428\n",
            "Validation Accuracy 93.58974358974359\n",
            "\n",
            "With Prunning\n",
            "Training Accuracy: 98.45659163987138\n",
            "Testing Accuracy: 89.01734104046243\n",
            "Valididation Accuracy 96.7948717948718\n",
            "\n",
            "With Prunning\n",
            "Training Accuracy: 98.45659163987138\n",
            "Testing Accuracy: 89.01734104046243\n",
            "Validation Accuracy 96.7948717948718\n"
          ]
        }
      ]
    },
    {
      "cell_type": "code",
      "metadata": {
        "id": "oZQxUm4C_ukV"
      },
      "source": [
        "#classification report with and without pruning\n",
        "from sklearn.metrics import classification_report\n",
        "print(\"Unpruned DT Classification Report for gini\")\n",
        "print()\n",
        "y_true = []\n",
        "for i in test_y[0]:\n",
        "  y_true.append(i)\n",
        "\n",
        "y_pred = gini_dt.predict(test_x)\n",
        "\n",
        "target_names = ['bad','good','ok','vgood']\n",
        "print(classification_report(y_true, y_pred, target_names = target_names)) \n",
        "\n",
        "print(\"Unpruned DT classification Report for ID3\")\n",
        "print()\n",
        "y_pred = infogain_dt.predict(test_x)\n",
        "\n",
        "print(classification_report(y_true, y_pred, target_names = target_names)) \n",
        "\n",
        "\n",
        "print(\"pruned DT classification Report for gini\")\n",
        "print()\n",
        "y_pred = prune_gini.predict(test_x)\n",
        "\n",
        "print(classification_report(y_true, y_pred, target_names = target_names)) \n",
        "\n",
        "print(\"pruned DT classification Report for ID3\")\n",
        "print()\n",
        "y_pred = prune_info.predict(test_x)\n",
        "\n",
        "print(classification_report(y_true, y_pred, target_names = target_names))\n"
      ],
      "execution_count": 22,
      "outputs": [
        {
          "output_type": "stream",
          "name": "stdout",
          "text": [
            "Unpruned DT Classification Report for gini\n\n              precision    recall  f1-score   support\n\n         bad       0.96      0.97      0.97       112\n        good       0.36      0.57      0.44         7\n          ok       0.90      0.82      0.86        44\n       vgood       0.89      0.80      0.84        10\n\n    accuracy                           0.91       173\n   macro avg       0.78      0.79      0.78       173\nweighted avg       0.92      0.91      0.91       173\n\nUnpruned DT classification Report for ID3\n\n              precision    recall  f1-score   support\n\n         bad       0.96      0.97      0.97       112\n        good       0.36      0.57      0.44         7\n          ok       0.90      0.82      0.86        44\n       vgood       0.89      0.80      0.84        10\n\n    accuracy                           0.91       173\n   macro avg       0.78      0.79      0.78       173\nweighted avg       0.92      0.91      0.91       173\n\npruned DT classification Report for gini\n\n              precision    recall  f1-score   support\n\n         bad       0.97      0.96      0.97       112\n        good       0.36      0.57      0.44         7\n          ok       0.89      0.75      0.81        44\n       vgood       0.64      0.90      0.75        10\n\n    accuracy                           0.89       173\n   macro avg       0.72      0.80      0.74       173\nweighted avg       0.91      0.89      0.90       173\n\npruned DT classification Report for ID3\n\n              precision    recall  f1-score   support\n\n         bad       0.97      0.96      0.97       112\n        good       0.36      0.57      0.44         7\n          ok       0.89      0.75      0.81        44\n       vgood       0.64      0.90      0.75        10\n\n    accuracy                           0.89       173\n   macro avg       0.72      0.80      0.74       173\nweighted avg       0.91      0.89      0.90       173\n\n"
          ]
        }
      ]
    },
    {
      "cell_type": "code",
      "execution_count": 23,
      "metadata": {},
      "outputs": [
        {
          "output_type": "stream",
          "name": "stdout",
          "text": [
            "parent ( safety ) -->high low med \n",
            "high ( persons ) -->2 4 more \n",
            "2 ( None ) --> 0\n",
            "4 ( buying ) -->1 2 3 4 5 6 \n",
            "1 ( lug_boot ) -->big med small \n",
            "big ( None ) --> 3\n",
            "med ( doors ) -->2 3 4 5more \n",
            "2 ( None ) --> 1\n",
            "3 ( maintainence ) -->high low med \n",
            "high ( None ) --> 2\n",
            "low ( None ) --> 1\n",
            "med ( None ) --> 1\n",
            "4 ( None ) --> 3\n",
            "5more ( None ) --> 3\n",
            "small ( maintainence ) -->high low med \n",
            "high ( None ) --> 2\n",
            "low ( None ) --> 1\n",
            "med ( None ) --> 1\n",
            "2 ( maintainence ) -->high low vhigh \n",
            "high ( lug_boot ) -->big med small \n",
            "big ( None ) --> 3\n",
            "med ( None ) --> 2\n",
            "small ( None ) --> 2\n",
            "low ( lug_boot ) -->big med small \n",
            "big ( None ) --> 3\n",
            "med ( None ) --> 3\n",
            "small ( None ) --> 1\n",
            "vhigh ( None ) --> 2\n",
            "3 ( maintainence ) -->high low med vhigh \n",
            "high ( None ) --> 2\n",
            "low ( None ) --> 1\n",
            "med ( lug_boot ) --> 3\n",
            "vhigh ( None ) --> 2\n",
            "4 ( maintainence ) -->high low med vhigh \n",
            "high ( None ) --> 2\n",
            "low ( None ) --> 2\n",
            "med ( None ) --> 2\n",
            "vhigh ( None ) --> 0\n",
            "5 ( None ) --> 2\n",
            "6 ( maintainence ) -->high low med vhigh \n",
            "high ( None ) --> 0\n",
            "low ( None ) --> 2\n",
            "med ( None ) --> 2\n",
            "vhigh ( None ) --> 0\n",
            "more ( buying ) -->1 2 3 4 5 6 \n",
            "1 ( lug_boot ) -->big med small \n",
            "big ( None ) --> 3\n",
            "med ( doors ) -->2 4 5more \n",
            "2 ( None ) --> 1\n",
            "4 ( None ) --> 3\n",
            "5more ( None ) --> 3\n",
            "small ( maintainence ) -->high low med \n",
            "high ( None ) --> 2\n",
            "low ( doors ) -->2 5more \n",
            "2 ( None ) --> 0\n",
            "5more ( None ) --> 1\n",
            "med ( doors ) -->2 3 4 5more \n",
            "2 ( None ) --> 0\n",
            "3 ( None ) --> 1\n",
            "4 ( None ) --> 1\n",
            "5more ( None ) --> 1\n",
            "2 ( maintainence ) -->high low vhigh \n",
            "high ( lug_boot ) -->big med \n",
            "big ( None ) --> 3\n",
            "med ( None ) --> 2\n",
            "low ( lug_boot ) -->big med small \n",
            "big ( None ) --> 3\n",
            "med ( None ) --> 3\n",
            "small ( None ) --> 1\n",
            "vhigh ( doors ) -->2 3 4 5more \n",
            "2 ( lug_boot ) -->big med small \n",
            "big ( None ) --> 2\n",
            "med ( None ) --> 2\n",
            "small ( None ) --> 0\n",
            "3 ( None ) --> 2\n",
            "4 ( None ) --> 2\n",
            "5more ( None ) --> 2\n",
            "3 ( maintainence ) --> 2\n",
            "4 ( maintainence ) -->high low med vhigh \n",
            "high ( doors ) -->2 3 4 5more \n",
            "2 ( lug_boot ) -->big small \n",
            "big ( None ) --> 2\n",
            "small ( None ) --> 0\n",
            "3 ( None ) --> 2\n",
            "4 ( None ) --> 2\n",
            "5more ( None ) --> 2\n",
            "low ( doors ) -->2 3 4 5more \n",
            "2 ( lug_boot ) -->med small \n",
            "med ( None ) --> 2\n",
            "small ( None ) --> 0\n",
            "3 ( None ) --> 2\n",
            "4 ( None ) --> 2\n",
            "5more ( None ) --> 2\n",
            "med ( None ) --> 2\n",
            "vhigh ( None ) --> 0\n",
            "5 ( None ) --> 2\n",
            "6 ( maintainence ) -->high med vhigh \n",
            "high ( None ) --> 0\n",
            "med ( doors ) -->2 3 4 5more \n",
            "2 ( lug_boot ) -->big small \n",
            "big ( None ) --> 2\n",
            "small ( None ) --> 0\n",
            "3 ( None ) --> 2\n",
            "4 ( None ) --> 2\n",
            "5more ( None ) --> 2\n",
            "vhigh ( None ) --> 0\n",
            "low ( None ) --> 0\n",
            "med ( persons ) -->2 4 more \n",
            "2 ( None ) --> 0\n",
            "4 ( buying ) -->1 2 3 4 5 6 \n",
            "1 ( lug_boot ) -->big med small \n",
            "big ( maintainence ) -->high low med \n",
            "high ( None ) --> 2\n",
            "low ( None ) --> 1\n",
            "med ( None ) --> 1\n",
            "med ( doors ) -->2 3 4 5more \n",
            "2 ( None ) --> 2\n",
            "3 ( None ) --> 2\n",
            "4 ( maintainence ) -->high low med \n",
            "high ( None ) --> 2\n",
            "low ( None ) --> 1\n",
            "med ( None ) --> 1\n",
            "5more ( None ) --> 1\n",
            "small ( None ) --> 2\n",
            "2 ( maintainence ) -->high low vhigh \n",
            "high ( None ) --> 2\n",
            "low ( lug_boot ) -->big med small \n",
            "big ( None ) --> 1\n",
            "med ( None ) --> 1\n",
            "small ( None ) --> 2\n",
            "vhigh ( lug_boot ) -->big med small \n",
            "big ( None ) --> 2\n",
            "med ( doors ) -->2 4 5more \n",
            "2 ( None ) --> 0\n",
            "4 ( None ) --> 2\n",
            "5more ( None ) --> 2\n",
            "small ( None ) --> 0\n",
            "3 ( maintainence ) -->high low med vhigh \n",
            "high ( lug_boot ) -->big med small \n",
            "big ( None ) --> 2\n",
            "med ( doors ) -->2 4 5more \n",
            "2 ( None ) --> 0\n",
            "4 ( None ) --> 2\n",
            "5more ( None ) --> 2\n",
            "small ( None ) --> 0\n",
            "low ( None ) --> 1\n",
            "med ( None ) --> 2\n",
            "vhigh ( lug_boot ) -->big med small \n",
            "big ( None ) --> 2\n",
            "med ( doors ) -->2 3 5more \n",
            "2 ( None ) --> 0\n",
            "3 ( None ) --> 0\n",
            "5more ( None ) --> 2\n",
            "small ( None ) --> 0\n",
            "4 ( lug_boot ) -->big med small \n",
            "big ( maintainence ) -->high low med vhigh \n",
            "high ( None ) --> 2\n",
            "low ( None ) --> 2\n",
            "med ( None ) --> 2\n",
            "vhigh ( None ) --> 0\n",
            "med ( doors ) -->2 3 4 5more \n",
            "2 ( None ) --> 0\n",
            "3 ( None ) --> 0\n",
            "4 ( maintainence ) -->high low vhigh \n",
            "high ( None ) --> 2\n",
            "low ( None ) --> 2\n",
            "vhigh ( None ) --> 0\n",
            "5more ( None ) --> 2\n",
            "small ( None ) --> 0\n",
            "5 ( lug_boot ) --> 2\n",
            "6 ( maintainence ) -->high low med vhigh \n",
            "high ( None ) --> 0\n",
            "low ( None ) --> 0\n",
            "med ( lug_boot ) -->big med small \n",
            "big ( None ) --> 2\n",
            "med ( doors ) -->2 3 4 \n",
            "2 ( None ) --> 0\n",
            "3 ( None ) --> 0\n",
            "4 ( None ) --> 2\n",
            "small ( None ) --> 0\n",
            "vhigh ( None ) --> 0\n",
            "more ( buying ) -->1 2 3 4 5 6 \n",
            "1 ( lug_boot ) -->big med small \n",
            "big ( maintainence ) -->high low med \n",
            "high ( None ) --> 2\n",
            "low ( None ) --> 1\n",
            "med ( None ) --> 1\n",
            "med ( doors ) -->2 3 4 5more \n",
            "2 ( None ) --> 2\n",
            "3 ( None ) --> 1\n",
            "4 ( maintainence ) -->high low med \n",
            "high ( None ) --> 2\n",
            "low ( None ) --> 1\n",
            "med ( None ) --> 1\n",
            "5more ( None ) --> 1\n",
            "small ( doors ) -->2 3 4 5more \n",
            "2 ( None ) --> 0\n",
            "3 ( None ) --> 2\n",
            "4 ( None ) --> 2\n",
            "5more ( None ) --> 2\n",
            "2 ( maintainence ) -->high low vhigh \n",
            "high ( lug_boot ) -->big med small \n",
            "big ( None ) --> 2\n",
            "med ( None ) --> 2\n",
            "small ( None ) --> 0\n",
            "low ( lug_boot ) -->big med small \n",
            "big ( None ) --> 1\n",
            "med ( None ) --> 1\n",
            "small ( None ) --> 2\n",
            "vhigh ( lug_boot ) -->big med small \n",
            "big ( None ) --> 2\n",
            "med ( doors ) -->2 3 4 5more \n",
            "2 ( None ) --> 0\n",
            "3 ( None ) --> 2\n",
            "4 ( None ) --> 2\n",
            "5more ( None ) --> 2\n",
            "small ( None ) --> 0\n",
            "3 ( lug_boot ) -->big med small \n",
            "big ( maintainence ) -->high low med vhigh \n",
            "high ( None ) --> 2\n",
            "low ( None ) --> 1\n",
            "med ( None ) --> 2\n",
            "vhigh ( None ) --> 2\n",
            "med ( doors ) --> 2\n",
            "small ( maintainence ) -->high low med vhigh \n",
            "high ( None ) --> 0\n",
            "low ( None ) --> 0\n",
            "med ( doors ) -->2 3 4 5more \n",
            "2 ( None ) --> 0\n",
            "3 ( None ) --> 2\n",
            "4 ( None ) --> 2\n",
            "5more ( None ) --> 2\n",
            "vhigh ( None ) --> 0\n",
            "4 ( lug_boot ) -->big med small \n",
            "big ( maintainence ) -->high low med vhigh \n",
            "high ( None ) --> 2\n",
            "low ( None ) --> 2\n",
            "med ( None ) --> 2\n",
            "vhigh ( None ) --> 0\n",
            "med ( doors ) -->2 3 4 5more \n",
            "2 ( None ) --> 0\n",
            "3 ( None ) --> 2\n",
            "4 ( maintainence ) -->high low vhigh \n",
            "high ( None ) --> 2\n",
            "low ( None ) --> 2\n",
            "vhigh ( None ) --> 0\n",
            "5more ( maintainence ) -->high low med vhigh \n",
            "high ( None ) --> 2\n",
            "low ( None ) --> 2\n",
            "med ( None ) --> 2\n",
            "vhigh ( None ) --> 0\n",
            "small ( None ) --> 0\n",
            "5 ( lug_boot ) -->big med small \n",
            "big ( None ) --> 2\n",
            "med ( doors ) -->2 3 4 5more \n",
            "2 ( None ) --> 0\n",
            "3 ( None ) --> 2\n",
            "4 ( None ) --> 2\n",
            "5more ( None ) --> 2\n",
            "small ( None ) --> 0\n",
            "6 ( maintainence ) -->high med vhigh \n",
            "high ( None ) --> 0\n",
            "med ( lug_boot ) -->big med small \n",
            "big ( None ) --> 2\n",
            "med ( doors ) --> 2\n",
            "small ( None ) --> 0\n",
            "vhigh ( None ) --> 0\n"
          ]
        }
      ],
      "source": [
        "#Printing Gini Dicision Tree After Pruning\n",
        "prune_gini.print_DT()"
      ]
    },
    {
      "cell_type": "code",
      "execution_count": 24,
      "metadata": {},
      "outputs": [
        {
          "output_type": "stream",
          "name": "stdout",
          "text": [
            "parent ( safety ) -->high low med \nhigh ( persons ) -->2 4 more \n2 ( None ) --> 0\n4 ( buying ) -->1 2 3 4 5 6 \n1 ( lug_boot ) -->big med small \nbig ( None ) --> 3\nmed ( doors ) -->2 3 4 5more \n2 ( None ) --> 1\n3 ( maintainence ) -->high low med \nhigh ( None ) --> 2\nlow ( None ) --> 1\nmed ( None ) --> 1\n4 ( None ) --> 3\n5more ( None ) --> 3\nsmall ( maintainence ) -->high low med \nhigh ( None ) --> 2\nlow ( None ) --> 1\nmed ( None ) --> 1\n2 ( maintainence ) -->high low vhigh \nhigh ( lug_boot ) -->big med small \nbig ( None ) --> 3\nmed ( None ) --> 2\nsmall ( None ) --> 2\nlow ( lug_boot ) -->big med small \nbig ( None ) --> 3\nmed ( None ) --> 3\nsmall ( None ) --> 1\nvhigh ( None ) --> 2\n3 ( maintainence ) -->high low med vhigh \nhigh ( None ) --> 2\nlow ( None ) --> 1\nmed ( lug_boot ) --> 3\nvhigh ( None ) --> 2\n4 ( maintainence ) -->high low med vhigh \nhigh ( None ) --> 2\nlow ( None ) --> 2\nmed ( None ) --> 2\nvhigh ( None ) --> 0\n5 ( None ) --> 2\n6 ( maintainence ) -->high low med vhigh \nhigh ( None ) --> 0\nlow ( None ) --> 2\nmed ( None ) --> 2\nvhigh ( None ) --> 0\nmore ( buying ) -->1 2 3 4 5 6 \n1 ( lug_boot ) -->big med small \nbig ( None ) --> 3\nmed ( doors ) -->2 4 5more \n2 ( None ) --> 1\n4 ( None ) --> 3\n5more ( None ) --> 3\nsmall ( maintainence ) -->high low med \nhigh ( None ) --> 2\nlow ( doors ) -->2 5more \n2 ( None ) --> 0\n5more ( None ) --> 1\nmed ( doors ) -->2 3 4 5more \n2 ( None ) --> 0\n3 ( None ) --> 1\n4 ( None ) --> 1\n5more ( None ) --> 1\n2 ( maintainence ) -->high low vhigh \nhigh ( lug_boot ) -->big med \nbig ( None ) --> 3\nmed ( None ) --> 2\nlow ( lug_boot ) -->big med small \nbig ( None ) --> 3\nmed ( None ) --> 3\nsmall ( None ) --> 1\nvhigh ( doors ) -->2 3 4 5more \n2 ( lug_boot ) -->big med small \nbig ( None ) --> 2\nmed ( None ) --> 2\nsmall ( None ) --> 0\n3 ( None ) --> 2\n4 ( None ) --> 2\n5more ( None ) --> 2\n3 ( maintainence ) --> 2\n4 ( maintainence ) -->high low med vhigh \nhigh ( doors ) -->2 3 4 5more \n2 ( lug_boot ) -->big small \nbig ( None ) --> 2\nsmall ( None ) --> 0\n3 ( None ) --> 2\n4 ( None ) --> 2\n5more ( None ) --> 2\nlow ( doors ) -->2 3 4 5more \n2 ( lug_boot ) -->med small \nmed ( None ) --> 2\nsmall ( None ) --> 0\n3 ( None ) --> 2\n4 ( None ) --> 2\n5more ( None ) --> 2\nmed ( None ) --> 2\nvhigh ( None ) --> 0\n5 ( None ) --> 2\n6 ( maintainence ) -->high med vhigh \nhigh ( None ) --> 0\nmed ( doors ) -->2 3 4 5more \n2 ( lug_boot ) -->big small \nbig ( None ) --> 2\nsmall ( None ) --> 0\n3 ( None ) --> 2\n4 ( None ) --> 2\n5more ( None ) --> 2\nvhigh ( None ) --> 0\nlow ( None ) --> 0\nmed ( persons ) -->2 4 more \n2 ( None ) --> 0\n4 ( buying ) -->1 2 3 4 5 6 \n1 ( lug_boot ) -->big med small \nbig ( maintainence ) -->high low med \nhigh ( None ) --> 2\nlow ( None ) --> 1\nmed ( None ) --> 1\nmed ( doors ) -->2 3 4 5more \n2 ( None ) --> 2\n3 ( None ) --> 2\n4 ( maintainence ) -->high low med \nhigh ( None ) --> 2\nlow ( None ) --> 1\nmed ( None ) --> 1\n5more ( None ) --> 1\nsmall ( None ) --> 2\n2 ( maintainence ) -->high low vhigh \nhigh ( None ) --> 2\nlow ( lug_boot ) -->big med small \nbig ( None ) --> 1\nmed ( None ) --> 1\nsmall ( None ) --> 2\nvhigh ( lug_boot ) -->big med small \nbig ( None ) --> 2\nmed ( doors ) -->2 4 5more \n2 ( None ) --> 0\n4 ( None ) --> 2\n5more ( None ) --> 2\nsmall ( None ) --> 0\n3 ( maintainence ) -->high low med vhigh \nhigh ( lug_boot ) -->big med small \nbig ( None ) --> 2\nmed ( doors ) -->2 4 5more \n2 ( None ) --> 0\n4 ( None ) --> 2\n5more ( None ) --> 2\nsmall ( None ) --> 0\nlow ( None ) --> 1\nmed ( None ) --> 2\nvhigh ( lug_boot ) -->big med small \nbig ( None ) --> 2\nmed ( doors ) -->2 3 5more \n2 ( None ) --> 0\n3 ( None ) --> 0\n5more ( None ) --> 2\nsmall ( None ) --> 0\n4 ( lug_boot ) -->big med small \nbig ( maintainence ) -->high low med vhigh \nhigh ( None ) --> 2\nlow ( None ) --> 2\nmed ( None ) --> 2\nvhigh ( None ) --> 0\nmed ( doors ) -->2 3 4 5more \n2 ( None ) --> 0\n3 ( None ) --> 0\n4 ( maintainence ) -->high low vhigh \nhigh ( None ) --> 2\nlow ( None ) --> 2\nvhigh ( None ) --> 0\n5more ( None ) --> 2\nsmall ( None ) --> 0\n5 ( lug_boot ) --> 2\n6 ( maintainence ) -->high low med vhigh \nhigh ( None ) --> 0\nlow ( None ) --> 0\nmed ( lug_boot ) -->big med small \nbig ( None ) --> 2\nmed ( doors ) -->2 3 4 \n2 ( None ) --> 0\n3 ( None ) --> 0\n4 ( None ) --> 2\nsmall ( None ) --> 0\nvhigh ( None ) --> 0\nmore ( buying ) -->1 2 3 4 5 6 \n1 ( lug_boot ) -->big med small \nbig ( maintainence ) -->high low med \nhigh ( None ) --> 2\nlow ( None ) --> 1\nmed ( None ) --> 1\nmed ( doors ) -->2 3 4 5more \n2 ( None ) --> 2\n3 ( None ) --> 1\n4 ( maintainence ) -->high low med \nhigh ( None ) --> 2\nlow ( None ) --> 1\nmed ( None ) --> 1\n5more ( None ) --> 1\nsmall ( doors ) -->2 3 4 5more \n2 ( None ) --> 0\n3 ( None ) --> 2\n4 ( None ) --> 2\n5more ( None ) --> 2\n2 ( maintainence ) -->high low vhigh \nhigh ( lug_boot ) -->big med small \nbig ( None ) --> 2\nmed ( None ) --> 2\nsmall ( None ) --> 0\nlow ( lug_boot ) -->big med small \nbig ( None ) --> 1\nmed ( None ) --> 1\nsmall ( None ) --> 2\nvhigh ( lug_boot ) -->big med small \nbig ( None ) --> 2\nmed ( doors ) -->2 3 4 5more \n2 ( None ) --> 0\n3 ( None ) --> 2\n4 ( None ) --> 2\n5more ( None ) --> 2\nsmall ( None ) --> 0\n3 ( lug_boot ) -->big med small \nbig ( maintainence ) -->high low med vhigh \nhigh ( None ) --> 2\nlow ( None ) --> 1\nmed ( None ) --> 2\nvhigh ( None ) --> 2\nmed ( doors ) --> 2\nsmall ( maintainence ) -->high low med vhigh \nhigh ( None ) --> 0\nlow ( None ) --> 0\nmed ( doors ) -->2 3 4 5more \n2 ( None ) --> 0\n3 ( None ) --> 2\n4 ( None ) --> 2\n5more ( None ) --> 2\nvhigh ( None ) --> 0\n4 ( lug_boot ) -->big med small \nbig ( maintainence ) -->high low med vhigh \nhigh ( None ) --> 2\nlow ( None ) --> 2\nmed ( None ) --> 2\nvhigh ( None ) --> 0\nmed ( doors ) -->2 3 4 5more \n2 ( None ) --> 0\n3 ( None ) --> 2\n4 ( maintainence ) -->high low vhigh \nhigh ( None ) --> 2\nlow ( None ) --> 2\nvhigh ( None ) --> 0\n5more ( maintainence ) -->high low med vhigh \nhigh ( None ) --> 2\nlow ( None ) --> 2\nmed ( None ) --> 2\nvhigh ( None ) --> 0\nsmall ( None ) --> 0\n5 ( lug_boot ) -->big med small \nbig ( None ) --> 2\nmed ( doors ) -->2 3 4 5more \n2 ( None ) --> 0\n3 ( None ) --> 2\n4 ( None ) --> 2\n5more ( None ) --> 2\nsmall ( None ) --> 0\n6 ( maintainence ) -->high med vhigh \nhigh ( None ) --> 0\nmed ( lug_boot ) -->big med small \nbig ( None ) --> 2\nmed ( doors ) --> 2\nsmall ( None ) --> 0\nvhigh ( None ) --> 0\n"
          ]
        }
      ],
      "source": [
        "#Printing ID3 dicision Tree After Pruning\n",
        "prune_info.print_DT()"
      ]
    },
    {
      "cell_type": "code",
      "execution_count": null,
      "metadata": {},
      "outputs": [],
      "source": []
    }
  ]
}